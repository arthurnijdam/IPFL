{
 "cells": [
  {
   "cell_type": "code",
   "execution_count": 1,
   "id": "bec0b88d",
   "metadata": {},
   "outputs": [
    {
     "name": "stderr",
     "output_type": "stream",
     "text": [
      "<frozen importlib._bootstrap>:219: RuntimeWarning: scipy._lib.messagestream.MessageStream size changed, may indicate binary incompatibility. Expected 56 from C header, got 64 from PyObject\n"
     ]
    }
   ],
   "source": [
    "import numpy as np\n",
    "import pandas as pd\n",
    "import matplotlib.pyplot as plt\n",
    "\n",
    "from sklearn.model_selection import train_test_split\n",
    "from sklearn.preprocessing import LabelBinarizer\n",
    "from sklearn.datasets import load_breast_cancer\n",
    "from sklearn.preprocessing import StandardScaler\n",
    "from scipy.special import binom \n",
    "\n",
    "import torch\n",
    "import torchvision\n",
    "import torch.nn as nn\n",
    "import torch.nn.functional as F\n",
    "from torchvision.datasets.utils import download_url\n",
    "from torchvision.datasets import ImageFolder\n",
    "from torch.utils.data import DataLoader, Dataset\n",
    "import torchvision.transforms as tt\n",
    "from torch.utils.data import random_split\n",
    "from torchvision.utils import make_grid\n",
    "from torchvision import transforms\n",
    "from torch.autograd import Variable\n",
    "import torch.utils.data as data_utils\n",
    "import torch.nn.init as init\n",
    "\n",
    "from collections import Counter\n",
    "import operator\n",
    "import copy \n",
    "from itertools import product,combinations\n",
    "from time import time \n",
    "#from IPython.core.display import display\n",
    "\n",
    "%matplotlib inline\n",
    "\n",
    "## code extracted from https://www.kaggle.com/code/graymant/breast-cancer-diagnosis-with-pytorch\n",
    "## SV code extracted from https://github.com/mburaksayici/ExplainableAI-Pure-Numpy/blob/main/KernelSHAP-Pure-Numpy.ipynb"
   ]
  },
  {
   "cell_type": "code",
   "execution_count": 2,
   "id": "a9c64e2f",
   "metadata": {},
   "outputs": [
    {
     "name": "stderr",
     "output_type": "stream",
     "text": [
      "2023-03-16 12:58:15.054127: I tensorflow/core/util/util.cc:169] oneDNN custom operations are on. You may see slightly different numerical results due to floating-point round-off errors from different computation orders. To turn them off, set the environment variable `TF_ENABLE_ONEDNN_OPTS=0`.\n"
     ]
    },
    {
     "name": "stdout",
     "output_type": "stream",
     "text": [
      "{'experiment_name': 'test_adaptive_a4', 'Date': '22_11_2022', 'Dataset': 'MNIST_niid', 'n_clients': 10, 'total_clients': 10, 'classes_per_user': 10, 'network': 'Net', 'n_epochs': 100, 'local_iterations': 1, 'type': 'afpl', 'log_interval': 25}\n",
      "[[1 2]\n",
      " [0 1]\n",
      " [0 1]\n",
      " [3 1]\n",
      " [3 0]\n",
      " [0 1]\n",
      " [0 1]\n",
      " [3 2]\n",
      " [0 2]\n",
      " [3 1]\n",
      " [1 2]\n",
      " [0 1]]\n"
     ]
    }
   ],
   "source": [
    "#from utils import read_data,label_mapping_FEMNIST\n",
    "from utils import *\n",
    "from models import Net, Federated_Averaging, Global_Model,Local_Model,AFPL,training_loop\n",
    "from data import FEMNIST_dataset, Partition_MNIST_NIID,MNIST_NIID_dataset\n",
    "import keras\n",
    "\n",
    "import yaml \n",
    "stream = 'settings\\train_settings.yaml'\n",
    "with open('settings/train_settings.yaml','r') as file:\n",
    "    settings = yaml.safe_load(file)\n",
    "    \n",
    "print(settings)\n",
    "### Divide MNIST dataset over a total of 10 clients. Each client gets 2 classes.\n",
    "train_data, test_data = keras.datasets.mnist.load_data()\n",
    "instance = Partition_MNIST_NIID(train_data[0],train_data[1])\n",
    "classes_per_user = 2\n",
    "total_clients = 12\n",
    "train_partition = instance.create_partition(4,classes_per_user,total_clients)\n",
    "test_instance = Partition_MNIST_NIID(test_data[0], test_data[1])\n",
    "test_partition = test_instance.create_partition_test(instance.sample_array)"
   ]
  },
  {
   "cell_type": "code",
   "execution_count": 3,
   "id": "25096301",
   "metadata": {},
   "outputs": [],
   "source": [
    "# SHAP kernel \n",
    "\n",
    "class SHAP_kernel(object): \n",
    "    def __init__(self,n_clients,samples,verbose=True):\n",
    "        self.samples = samples \n",
    "        self.n_clients = n_clients \n",
    "        self.verbose = verbose \n",
    "        self.indices = []\n",
    "        \n",
    "    def first_guess(self): \n",
    "        self.shap_weights = [(self.n_clients-1)/(z*(self.n_clients-z)) for z in list(range(1,self.n_clients))]\n",
    "        self.discrete_shap = np.round(self.shap_weights/np.sum(self.shap_weights)*self.samples)\n",
    "        \n",
    "    def adjust_if_necessary(self,shap_kernel):\n",
    "        ddd = copy.copy(shap_kernel)\n",
    "        \n",
    "        self.changed = False \n",
    "        for i,ele in enumerate(shap_kernel):\n",
    "            if i not in self.indices: \n",
    "                binom_i = binom(len(shap_kernel)+1,i+1)\n",
    "                if binom_i < ele: \n",
    "                    self.changed = True \n",
    "                    ddd[i] = binom_i\n",
    "                    self.indices.append(i)\n",
    "        #print(ddd)\n",
    "        if self.changed == True: \n",
    "            n = self.samples - np.sum(ddd)\n",
    "            p = np.sum(ddd) - np.sum(ddd[self.indices])\n",
    "            if p != 0: \n",
    "                self.adjusted = np.round(ddd * (n+p)/p)\n",
    "                self.adjusted[self.indices] = ddd[self.indices]\n",
    "            else: \n",
    "                self.adjusted = ddd \n",
    "                #self.changed = False\n",
    "\n",
    "    def weights(self):\n",
    "        discrete_shap = self.discrete_shap\n",
    "        if self.changed == True: \n",
    "            while self.changed == True: \n",
    "                self.adjust_if_necessary(self.adjusted)\n",
    "                \n",
    "            self.discrete_shap = self.adjusted \n",
    "                \n",
    "            weights = (1/len(self.discrete_shap))*np.ones(np.shape(self.discrete_shap))\n",
    "            changes = discrete_shap/self.adjusted\n",
    "            weights = weights*changes \n",
    "            self.weights = weights / np.sum(weights)\n",
    "            if self.verbose == True: \n",
    "                fig,ax = plt.subplots(2,2)\n",
    "                plt.tight_layout()\n",
    "                ax[0,0].plot(np.arange(1,self.n_clients),self.adjusted)\n",
    "                ax[0,0].title.set_text(\"number of coalitions with k clients\")\n",
    "                ax[0,1].plot(np.arange(1,self.n_clients),weights)\n",
    "                ax[0,1].title.set_text(\"weights\")\n",
    "                ax[1,0].plot(np.arange(1,self.n_clients),self.adjusted*weights)\n",
    "                ax[1,0].title.set_text(\"# coalitions * weights\")\n",
    "                ax[1,1].plot(np.arange(1,self.n_clients),self.shap_weights)\n",
    "                ax[1,1].title.set_text(\"exact Shapley kernel\")\n",
    "                \n",
    "                print(\"weights: \",weights)\n",
    "                print(\"we took: \",int(np.sum(self.adjusted)),\" samples instead of \",self.samples,\" samples\")\n",
    "                print(np.sum(weights))\n",
    "        else: \n",
    "            # uniform weights \n",
    "            self.weights = (1/len(self.discrete_shap))*np.ones(np.shape(self.discrete_shap))\n",
    "            if self.verbose == True: \n",
    "                print(\"weights: \",weights)\n",
    "                plt.plot(self.discrete_shap*weights)\n",
    "                print(\"we took: \",int(np.sum(self.discrete_shap)),\" samples instead of \",self.samples,\" samples\")\n",
    "        \n",
    "    def forward_shap(self): \n",
    "        self.first_guess()\n",
    "        self.adjust_if_necessary(shap_kernel=self.discrete_shap)\n",
    "        self.weights()\n",
    "\n",
    "class create_coalitions(object):\n",
    "    def __init__(self,discrete_shap,weights,n_clients):\n",
    "        self.actual_samples = int(np.sum(discrete_shap))\n",
    "        self.discrete_shap = discrete_shap\n",
    "        self.weights = weights \n",
    "        self.n_clients = n_clients \n",
    "\n",
    "    def combiner(self,used_masks,i_old,zeros=3,ones=2):\n",
    "        for i,indices in enumerate(combinations(range(zeros+ones),ones)):\n",
    "            item = ['0']*(zeros+ones)\n",
    "            for index in indices: \n",
    "                item[index] = '1'\n",
    "            used_masks[''.join(item)] = int(i_old + i +1)\n",
    "\n",
    "    # determine the permutation length weighted by SV \n",
    "    def permutation_length(self): \n",
    "        arr = np.zeros(self.actual_samples)\n",
    "        K_old = 0 \n",
    "        for i,K in enumerate(self.discrete_shap): \n",
    "            arr[int(K_old):int(K+K_old)] = int(i)\n",
    "            K_old += K \n",
    "        #np.random.shuffle(arr)\n",
    "        return arr\n",
    "    \n",
    "    def forward(self): \n",
    "        indices = self.permutation_length()\n",
    "\n",
    "        mask = np.zeros(self.n_clients)\n",
    "        used_masks = {}\n",
    "        kernel_weights = {}\n",
    "        full_clients = []\n",
    "        number_masks = 0 \n",
    "        for i in range(self.actual_samples):\n",
    "            mask.fill(0.0)\n",
    "\n",
    "            ind = indices[i] + 1\n",
    "            kernel_weights[i] = self.weights[int(indices[i])]\n",
    "            if binom(self.n_clients,ind) <= self.discrete_shap[int(indices[i])]:\n",
    "                # list all permutations. \n",
    "                if ind not in full_clients: \n",
    "                    full_clients.append(ind)\n",
    "                    self.combiner(used_masks,number_masks,self.n_clients-int(ind),int(ind))\n",
    "                    number_masks += binom(self.n_clients,ind)\n",
    "\n",
    "            else: \n",
    "\n",
    "                number_masks_after = number_masks + 1 \n",
    "                time_before = time()\n",
    "                while number_masks != number_masks_after: \n",
    "                    mask.fill(0.0)\n",
    "                    perm = np.random.permutation(self.n_clients)[:int(ind)]\n",
    "                    mask[perm] = 1\n",
    "                    tuple_m = ''.join(str(int(x)) for x in mask)\n",
    "                    if tuple_m not in used_masks: \n",
    "                        used_masks[tuple_m] = int(number_masks)\n",
    "                        number_masks += 1 \n",
    "                    time_int = time()\n",
    "                    if time_int > time_before + 0.05: \n",
    "                        print(\"failed to find all permutations\")\n",
    "                        break\n",
    "                        \n",
    "        masks = np.zeros((self.actual_samples,self.n_clients))\n",
    "        weights = np.zeros(self.actual_samples)\n",
    "        for i,coalition in enumerate(used_masks.keys()):\n",
    "            masks[i,:] = np.array(list(coalition))#int(coalition,2)\n",
    "            weights[i] = kernel_weights[i]\n",
    "        weights = weights / np.sum(weights)\n",
    "        return masks,weights\n",
    "                        \n",
    "#coalition_object = create_coalitions(discrete_shap,shap.weights,n_clients)\n",
    "#masks,weights = coalition_object.forward()\n",
    "#print(masks)\n",
    "#print(weights)"
   ]
  },
  {
   "cell_type": "code",
   "execution_count": 4,
   "id": "064a955c",
   "metadata": {},
   "outputs": [
    {
     "name": "stdout",
     "output_type": "stream",
     "text": [
      "0.1\n",
      "[0.1, 0.0125, 0.0035714285714285713, 0.0017857142857142857, 0.0014285714285714286, 0.0017857142857142857, 0.0035714285714285713, 0.0125, 0.1]\n"
     ]
    },
    {
     "data": {
      "text/plain": [
       "[<matplotlib.lines.Line2D at 0x7f98b4f43580>]"
      ]
     },
     "execution_count": 4,
     "metadata": {},
     "output_type": "execute_result"
    },
    {
     "data": {
      "image/png": "[encoded data removed]",
      "text/plain": [
       "<Figure size 432x288 with 1 Axes>"
      ]
     },
     "metadata": {
      "needs_background": "light"
     },
     "output_type": "display_data"
    }
   ],
   "source": [
    "import matplotlib.pyplot as plt \n",
    "from scipy.special import binom \n",
    "\n",
    "def shap_kernel(z,p):\n",
    "    #print(binom(p,z))\n",
    "    #return binom(p,z)\n",
    "    return (p-1)/(binom(p,z)*(z*(p-z)))\n",
    "    #return (p-1)/(z*(p-z))\n",
    "    \n",
    "n_clients = 10\n",
    "xx = list(range(1,n_clients))\n",
    "scaling_factor = shap_kernel(1,n_clients)\n",
    "print(scaling_factor)\n",
    "print([shap_kernel(z,n_clients) for z in xx])\n",
    "plt.plot(xx, [shap_kernel(z,n_clients) for z in xx])"
   ]
  },
  {
   "cell_type": "code",
   "execution_count": 5,
   "id": "a4b9ffe0",
   "metadata": {},
   "outputs": [],
   "source": [
    "class Net(nn.Module):\n",
    "    def __init__(self,dataset,out=10):\n",
    "        super(Net, self).__init__()\n",
    "        self.conv1 = nn.Conv2d(1, 10, kernel_size=5)\n",
    "        self.conv2 = nn.Conv2d(10, 20, kernel_size=5)\n",
    "        self.conv2_drop = nn.Dropout2d()\n",
    "        self.fc1 = nn.Linear(320, 100)\n",
    "        if dataset == 'FEMNIST':\n",
    "            self.fc2 = nn.Linear(100, 62)\n",
    "        if dataset == 'MNIST_niid':\n",
    "            self.fc2 = nn.Linear(100,out)\n",
    "\n",
    "    def forward(self, x):\n",
    "        x = F.relu(F.max_pool2d(self.conv1(x), 2))\n",
    "        x = F.relu(F.max_pool2d(self.conv2_drop(self.conv2(x)), 2))\n",
    "        x = x.view(-1, 320)\n",
    "        x = F.relu(self.fc1(x))\n",
    "        x = F.dropout(x, training=self.training)\n",
    "        x = self.fc2(x)\n",
    "        return F.log_softmax(x,dim=-1)"
   ]
  },
  {
   "cell_type": "code",
   "execution_count": 6,
   "id": "0be7f685",
   "metadata": {},
   "outputs": [],
   "source": [
    "from torch.utils.data import DataLoader\n",
    "import copy\n",
    "network = Net('MNIST_niid')\n",
    "client_models = {}\n",
    "optimizers = {}\n",
    "dataloaders = {}\n",
    "dataloaders_test = {}\n",
    "for i in range(total_clients):\n",
    "    client_models[str(i)] = copy.deepcopy(network).double().cuda()\n",
    "    optimizers[str(i)] = torch.optim.SGD(client_models[str(i)].parameters(),lr=0.01,momentum=0.5)\n",
    "    dataset_train= MNIST_NIID_dataset(train_data[0],train_data[1],train_partition,i)\n",
    "    dataloaders[str(i)] = DataLoader(dataset_train,batch_size=16,shuffle=True)\n",
    "    dataset_test= MNIST_NIID_dataset(test_data[0],test_data[1],test_partition,i)\n",
    "    dataloaders_test[str(i)] = DataLoader(dataset_test,batch_size=16,shuffle=True)"
   ]
  },
  {
   "cell_type": "code",
   "execution_count": 7,
   "id": "1924d32a",
   "metadata": {},
   "outputs": [
    {
     "name": "stdout",
     "output_type": "stream",
     "text": [
      "[[2, 6], [1, 6], [2, 1], [2, 1]]\n"
     ]
    }
   ],
   "source": [
    "import random\n",
    "# Select 5 clients \n",
    "selected_clients = [1,2,5,6] #[4,8,9]\n",
    "# create a (random) graph between them\n",
    "graph = []\n",
    "for index,sample in enumerate(selected_clients):\n",
    "    other_clients = copy.deepcopy(selected_clients)\n",
    "    other_clients.remove(sample)\n",
    "    l = [i for i in other_clients]\n",
    "    graph.append(random.sample(l,k=2))\n",
    "    \n",
    "print(graph)"
   ]
  },
  {
   "cell_type": "code",
   "execution_count": 8,
   "id": "9ded635f",
   "metadata": {},
   "outputs": [],
   "source": [
    "class P2P_AFPL():\n",
    "    def __init__(self,total_clients,train_data,train_partition,test_data,test_partition): \n",
    "        self.network = Net('MNIST_niid')\n",
    "        self.total_clients = total_clients \n",
    "        self.client_models = {}\n",
    "        self.optimizers = {}\n",
    "        self.dataloaders = {}\n",
    "        self.len = {}\n",
    "        self.len_test = {}\n",
    "        self.dataloaders_test = {}\n",
    "        for i in range(total_clients):\n",
    "            self.client_models[str(i)] = copy.deepcopy(network).double().cuda()\n",
    "            self.optimizers[str(i)] = torch.optim.SGD(self.client_models[str(i)].parameters(),lr=0.01,momentum=0.5)\n",
    "            dataset_train= MNIST_NIID_dataset(train_data[0],train_data[1],train_partition,i)\n",
    "            self.len[str(i)]= len(dataset_train)\n",
    "            self.dataloaders[str(i)] = DataLoader(dataset_train,batch_size=16,shuffle=True)\n",
    "            dataset_test= MNIST_NIID_dataset(test_data[0],test_data[1],test_partition,i)\n",
    "            self.len_test[str(i)] = len(dataset_test)\n",
    "            self.dataloaders_test[str(i)] = DataLoader(dataset_test,batch_size=16,shuffle=False)\n",
    "            \n",
    "    def create_graph(self,selected_clients):\n",
    "        graph = []\n",
    "        for index,sample in enumerate(selected_clients):\n",
    "            other_clients = copy.deepcopy(selected_clients)\n",
    "            other_clients.remove(sample)\n",
    "            l = [i for i in other_clients]\n",
    "            graph.append(random.sample(l,k=2))\n",
    "\n",
    "        return graph \n",
    "    \n",
    "    def select_clients(self, n_clients=1,total_clients=1, seed=1):\n",
    "        random.seed(seed)\n",
    "        l = [i for i in range(total_clients)]\n",
    "        self.selected_clients = random.sample(l,k=n_clients)\n",
    "        return self.selected_clients \n",
    "\n",
    "    def update_local_models(self,selected_clients):\n",
    "        self.dw = {}\n",
    "        for idx,i in enumerate(selected_clients):\n",
    "            #print(\"local model i\",i)\n",
    "            dataloader = self.dataloaders[str(i)]\n",
    "            self.client_models[str(i)].train()\n",
    "            \n",
    "            for batch_idx, (data, target) in enumerate(dataloader):\n",
    "                data = data.double().cuda()\n",
    "                target=target.long().cuda()\n",
    "\n",
    "                self.optimizers[str(i)].zero_grad()\n",
    "                output = self.client_models[str(i)](data)\n",
    "                loss = F.nll_loss(output,target)\n",
    "                loss.backward()\n",
    "                self.optimizers[str(i)].step()\n",
    "            \n",
    "            self.client_models[str(i)].eval()\n",
    "            dataloader_test = self.dataloaders_test[str(i)]\n",
    "            loss_test = 0 \n",
    "            with torch.no_grad():\n",
    "                for batch_idx, (data, target) in enumerate(dataloader_test):\n",
    "                    data = data.double().cuda()\n",
    "                    target=target.long().cuda()\n",
    "\n",
    "                    output = self.client_models[str(i)](data)\n",
    "                    loss_test += F.nll_loss(output,target)\n",
    "            #print(\"loss test\",loss_test)\n",
    "            \n",
    "            loss_test2 = 0 \n",
    "            with torch.no_grad():\n",
    "                for batch_idx, (data, target) in enumerate(dataloader):\n",
    "                    data = data.double().cuda()\n",
    "                    target=target.long().cuda()\n",
    "\n",
    "                    output = self.client_models[str(i)](data)\n",
    "                    loss_test2 += F.nll_loss(output,target)\n",
    "            #print(\"loss train\",loss_test2)\n",
    "            \n",
    "        return loss_test/self.len_test[str(i)],loss_test2 /self.len[str(i)]\n",
    "    \n",
    "    \n",
    "\n",
    "            \n",
    "    def combine_models(self,i,client_numbers):\n",
    "        zero_copy = copy.deepcopy(self.client_models[str(i)]) # This is used to collect the model in\n",
    "        j =0\n",
    "        client_numbers_plus_client = client_numbers + [i] # This is more efficient\n",
    "        alphas = zero_copy.alphas.detach()\n",
    "        alphas[i] = 1 - torch.sum(\n",
    "            torch.tensor([iii for idx, iii in enumerate(alphas) if idx != i and idx in client_numbers]))\n",
    "        # It's not possible to set the value of self.alphas[i], so instead we determine it manually here\n",
    "\n",
    "        for ii in client_numbers_plus_client:\n",
    "\n",
    "            for (name, param),(name2,param2) in zip(zero_copy.named_parameters(),self.client_models[str(ii)].named_parameters()): #self.client_models[str(ii)].named_parameters()):\n",
    "\n",
    "                if name != 'alphas':\n",
    "                    if j == 0:\n",
    "                        param.data = torch.zeros(param.shape).cuda()\n",
    "\n",
    "                    param.data += alphas[ii]*param2.data # we add all participating client's models to the one here.\n",
    "\n",
    "            j += 1\n",
    "\n",
    "        self.client_models[str(i)] = zero_copy.double()\n",
    "        \n",
    "    def calc_accuracy(self):\n",
    "        \n",
    "        for i in self.selected_clients: \n",
    "            dataloader = self.dataloaders_test[str(i)]\n",
    "            intermediate_accuracy = 0 \n",
    "\n",
    "            for batch_idx, (data, target) in enumerate(dataloader):\n",
    "                data = data.double().cuda()\n",
    "                target = target.long().cuda()\n",
    "                output = self.client_models[str(i)](data)\n",
    "                output_array = output.detach().cpu().numpy()\n",
    "                output_class = np.argmax(output_array,axis=-1)\n",
    "                target_array = target.detach().cpu().numpy()\n",
    "                intermediate_accuracy += np.sum(output_class == target_array)\n",
    "\n",
    "            accuracy = intermediate_accuracy/p2p.len_test[str(i)]*100\n",
    "            print(i)\n",
    "            print(accuracy)\n",
    "            \n",
    "    def federated_averaging(self):\n",
    "        self.shared_model = copy.deepcopy(network).double().cuda()\n",
    "        n_clients = len(self.selected_clients)\n",
    "        weight = [self.len[str(x)] for x in self.selected_clients]\n",
    "        weight = weight / np.sum(weight)\n",
    "        #print(\"weights \",weight)\n",
    "        for idx,i in enumerate(self.selected_clients): \n",
    "            for (name, param),(name2,param2) in zip(self.shared_model.named_parameters()\n",
    "                                                      ,self.client_models[str(i)].named_parameters()):\n",
    "                if idx == 0: \n",
    "                    param.data = torch.zeros(param.shape).cuda().double()\n",
    "                param.data += weight[idx]*param2.data \n",
    "\n",
    "        self.shared_model = self.shared_model.double()\n",
    "        \n",
    "    def init_models(self):\n",
    "        for i in self.selected_clients: \n",
    "            for (name,param),(name2,param2) in zip(self.shared_model.named_parameters(),\n",
    "                                                  self.client_models[str(i)].named_parameters()):\n",
    "                param2.data = copy.deepcopy(param.data)\n",
    "    \n",
    "    def compare_favg(self):\n",
    "        self.shared_model.eval()\n",
    "        loss_before = []\n",
    "        loss_after = []\n",
    "        for ii in self.selected_clients:\n",
    "            dataloader = self.dataloaders_test[str(ii)]\n",
    "            loss_test = 0 \n",
    "            loss_global = 0 \n",
    "            #print(\"loss\")\n",
    "            with torch.no_grad():\n",
    "                for batch_idx, (data, target) in enumerate(dataloader):\n",
    "                    data = data.double().cuda()\n",
    "                    target=target.long().cuda()\n",
    "#\n",
    "                    output = self.client_models[str(ii)](data)\n",
    "                    outputg = self.shared_model(data)\n",
    "                    loss_test += F.nll_loss(output,target)\n",
    "                    loss_global += F.nll_loss(outputg,target)\n",
    "                     \n",
    "            loss_before.append(loss_test.detach().cpu().numpy())\n",
    "            loss_after.append(loss_global.detach().cpu().numpy())\n",
    "        print(\"loss before: \",np.sum(loss_before))\n",
    "        print(\"loss after: \",np.sum(loss_after))\n",
    "    \n",
    "    def loop(self,epochs,graph,mode='disjoint'):\n",
    "        \n",
    "        loss_tests = []\n",
    "        loss_trains = []\n",
    "        \n",
    "        for i in range(epochs): \n",
    "            self.selected_clients = [0,1,2,3,4,5,6,7,8,9,10,11]\n",
    "            list1 = []\n",
    "            self.alphas = torch.ones(self.total_clients,self.total_clients)*(1/3)\n",
    "            loss_test, loss_train = self.update_local_models(self.selected_clients)\n",
    "            loss_tests.append(loss_test.detach().cpu().numpy())\n",
    "            loss_trains.append(loss_train.detach().cpu().numpy())\n",
    "            \n",
    "            \n",
    "            if i < epochs -1 :\n",
    "                self.federated_averaging()\n",
    "                self.compare_favg()\n",
    "                self.init_models()\n",
    "            else: \n",
    "                print(\"stopped fedavg\")\n",
    "            \n",
    "        plt.plot(loss_tests,'r-')\n",
    "        plt.plot(loss_trains,'k-')\n",
    "        self.calc_accuracy()\n",
    "        \n",
    "          #  plt.imshow(data[0,0,:,:].detach().cpu().numpy())"
   ]
  },
  {
   "cell_type": "code",
   "execution_count": 9,
   "id": "e412e165",
   "metadata": {},
   "outputs": [
    {
     "name": "stdout",
     "output_type": "stream",
     "text": [
      "loss before:  8.68615688999589\n",
      "loss after:  252.35277496522392\n",
      "loss before:  5.663124344771724\n",
      "loss after:  110.04354455654695\n",
      "loss before:  5.29240439938147\n",
      "loss after:  62.741260506032646\n",
      "loss before:  5.3374169763846275\n",
      "loss after:  41.68177106068769\n",
      "loss before:  5.046794888744813\n",
      "loss after:  31.90839490017025\n",
      "loss before:  4.349989935390459\n",
      "loss after:  25.26190190909405\n",
      "loss before:  4.133684494580142\n",
      "loss after:  21.261082202192856\n",
      "loss before:  3.354355097008957\n",
      "loss after:  19.573334234631645\n",
      "loss before:  3.2004499896486167\n",
      "loss after:  17.150555858451572\n",
      "stopped fedavg\n",
      "0\n",
      "98.7012987012987\n",
      "1\n",
      "100.0\n",
      "2\n",
      "100.0\n",
      "3\n",
      "99.21052631578947\n",
      "4\n",
      "99.74554707379136\n",
      "5\n",
      "100.0\n",
      "6\n",
      "100.0\n",
      "7\n",
      "98.82583170254404\n",
      "8\n",
      "100.0\n",
      "9\n",
      "100.0\n",
      "10\n",
      "99.74025974025975\n",
      "11\n",
      "99.61389961389962\n"
     ]
    },
    {
     "data": {
      "image/png": "[encoded data removed]",
      "text/plain": [
       "<Figure size 432x288 with 1 Axes>"
      ]
     },
     "metadata": {
      "needs_background": "light"
     },
     "output_type": "display_data"
    }
   ],
   "source": [
    "import collections\n",
    "p2p = P2P_AFPL(total_clients,train_data,train_partition,test_data,test_partition)\n",
    "alphas = p2p.loop(10,graph,p2p)\n"
   ]
  },
  {
   "cell_type": "code",
   "execution_count": 10,
   "id": "a9937894",
   "metadata": {},
   "outputs": [],
   "source": [
    "class calculate_SHAP(SHAP_kernel):\n",
    "    def __init__(self,selected_clients,dataset,samples,p2p):\n",
    "        super().__init__(len(selected_clients),samples,verbose=False)\n",
    "        self.n_clients = len(selected_clients)\n",
    "        self.samples = samples\n",
    "        self.dataset = dataset\n",
    "        self.selected_clients = selected_clients\n",
    "        self.p2p = p2p \n",
    "        self.define_shap()\n",
    "        \n",
    "    def define_shap(self):\n",
    "        # define Shap kernel\n",
    "        #shap = SHAP_kernel(self.n_clients,self.samples,verbose=False)\n",
    "        self.forward_shap()\n",
    "        coalition_object = create_coalitions(self.adjusted,self.weights,self.n_clients)\n",
    "        self.masks, self.weights = coalition_object.forward()\n",
    "        \n",
    "        self.masks = np.asarray(self.masks,dtype='bool')\n",
    "        \n",
    "    def combine_models(self,p2p,coalitions):\n",
    "        shared_model = copy.deepcopy(p2p.network).double().cuda()\n",
    "        n_clients = len(self.selected_clients)\n",
    "        weight = [p2p.len[str(x)] for x in coalitions]\n",
    "        weight = weight / np.sum(weight) #weight is wrong \n",
    "        #print(\"weights \",weight)\n",
    "        for idx,i in enumerate(coalitions): \n",
    "            for (name, param),(name2,param2) in zip(shared_model.named_parameters()\n",
    "                                                      ,p2p.client_models[str(i)].named_parameters()):\n",
    "                if idx == 0: \n",
    "                    param.data = torch.zeros(param.shape).cuda().double()\n",
    "                param.data += weight[idx]*param2.data \n",
    "        shared_model = shared_model.double()\n",
    "        return shared_model\n",
    "        \n",
    "    def solve(self,ey,fnull,maskMatrix,M,fx,dim,kernelWeights):\n",
    "        eyAdj = ey[:, dim] - fnull[dim]\n",
    "        s = np.sum(maskMatrix, 1)\n",
    "        # do feature selection if we have not well enumerated the space\n",
    "        nonzero_inds = np.arange(M)\n",
    "        # eliminate one variable with the constraint that all features sum to the output\n",
    "        eyAdj2 = eyAdj - maskMatrix[:, nonzero_inds[-1]] * (\n",
    "                    (fx[dim]) - (fnull[dim]))\n",
    "        etmp = np.transpose(np.transpose(maskMatrix[:, nonzero_inds[:-1]]) - maskMatrix[:, nonzero_inds[-1]])\n",
    "        # solve a weighted least squares equation to estimate phi\n",
    "        tmp = np.transpose(np.transpose(etmp) * np.transpose(kernelWeights))\n",
    "        #print(\"tmp \",np.shape(tmp))\n",
    "        etmp_dot = np.dot(np.transpose(tmp), etmp)\n",
    "        try:\n",
    "            tmp2 = np.linalg.inv(etmp_dot)\n",
    "        except np.linalg.LinAlgError:\n",
    "            tmp2 = np.linalg.pinv(etmp_dot)\n",
    "            warnings.warn(\n",
    "                \"Linear regression equation is singular, Moore-Penrose pseudoinverse is used instead of the regular inverse.\\n\"\n",
    "                \"To use regular inverse do one of the following:\\n\"\n",
    "                \"1) turn up the number of samples,\\n\"\n",
    "                \"2) turn up the L1 regularization with num_features(N) where N is less than the number of samples,\\n\"\n",
    "                \"3) group features together to reduce the number of inputs that need to be explained.\"\n",
    "            )\n",
    "        w = np.dot(tmp2, np.dot(np.transpose(tmp), eyAdj2))\n",
    "        phi = np.zeros(M)\n",
    "        phi[nonzero_inds[:-1]] = w\n",
    "        phi[nonzero_inds[-1]] = ((fx[dim]) - (fnull[dim])) - sum(w)\n",
    "        # clean up any rounding errors\n",
    "        for i in range(M):\n",
    "            if np.abs(phi[i]) < 1e-10:\n",
    "                phi[i] = 0\n",
    "        return phi\n",
    "    \n",
    "    def calc_accuracy(self,model):\n",
    "        \n",
    "        for i in [10]: # we take subject 10 as test \n",
    "            dataloader = self.p2p.dataloaders_test[str(i)]\n",
    "            intermediate_accuracy = 0 \n",
    "\n",
    "            for batch_idx, (data, target) in enumerate(dataloader):\n",
    "                data = data.double().cuda()\n",
    "                target = target.long().cuda()\n",
    "                output = model(data)\n",
    "                output_array = output.detach().cpu().numpy()\n",
    "                output_class = np.argmax(output_array,axis=-1)\n",
    "                target_array = target.detach().cpu().numpy()\n",
    "                intermediate_accuracy += np.sum(output_class == target_array)\n",
    "\n",
    "            accuracy = intermediate_accuracy/p2p.len_test[str(i)]*100\n",
    "            #print(i)\n",
    "            #print(accuracy)\n",
    "            return accuracy \n",
    "        \n",
    "    def forward(self,index,evaluation=\"loss\"):\n",
    "        #instance = self.dataset[index]\n",
    "        k = 0 \n",
    "        for batch_idx, (data, target) in enumerate(self.p2p.dataloaders_test[str(10)]):\n",
    "                #instance[0]= data\n",
    "                #target[0] = target\n",
    "                for ii in range(len(target)):\n",
    "                    \n",
    "                    if k == index:\n",
    "                        instance = (data[ii],target[ii])\n",
    "                        #print(batch_idx*16 + ii)\n",
    "                    k = k + 1 \n",
    "\n",
    "\n",
    "        \n",
    "        # calculate ey, output for all coalitions \n",
    "        ey= np.zeros((len(self.masks),1))\n",
    "        for i,coalition in enumerate(self.masks): \n",
    "            selected_clients_coalition = np.concatenate((self.selected_clients[coalition],np.array([10])))\n",
    "            #print(selected_clients_coalition)\n",
    "            shared_model = self.combine_models(self.p2p,selected_clients_coalition)\n",
    "            shared_model.eval().cuda()\n",
    "            if evaluation == \"loss\":\n",
    "                ey[i] = F.nll_loss(shared_model(instance[0].cuda()),instance[1].long().cuda().unsqueeze(0)).detach().cpu().numpy()\n",
    "            else: \n",
    "                ey[i] = self.calc_accuracy(shared_model)\n",
    "        ey = np.reshape(ey,(len(ey),1))\n",
    "        self.ey = ey\n",
    "        # calculate fnull, prediction without knowledge (empty initialized model)\n",
    "        # we calculate the prediction of an untrained model \n",
    "        #self.p2p.client_models[str(0)].eval().cuda() #.double()\n",
    "        shared_model = self.combine_models(self.p2p,np.array([0]))\n",
    "        shared_model.eval().cuda()\n",
    "        #p2p.network.eval().cuda().double()\n",
    "        if evaluation == \"loss\":\n",
    "            fnull = F.nll_loss(shared_model(instance[0].cuda()),instance[1].long().cuda().unsqueeze(0)).detach().cpu().numpy()\n",
    "            #print(\"correct!\")\n",
    "        else: \n",
    "            fnull = self.calc_accuracy(p2p.network)\n",
    "        fnull = np.reshape(fnull,(1,1))\n",
    "       # print(\"untrained model: \",fnull)\n",
    "        self.fnull = fnull \n",
    "\n",
    "        # calculate fx \n",
    "        shared_model = self.combine_models(self.p2p,np.concatenate((self.selected_clients,np.array([10]))))\n",
    "        shared_model.eval().cuda()\n",
    "        if evaluation == \"loss\": \n",
    "            fx = F.nll_loss(shared_model(instance[0].cuda()),instance[1].long().cuda().unsqueeze(0)).detach().cpu().numpy()\n",
    "        else: \n",
    "            fx = self.calc_accuracy(shared_model)\n",
    "        fx = np.reshape(fx,(1,1))\n",
    "        #print(fx)\n",
    "        self.fx = fx \n",
    "        \n",
    "        masks = np.asarray(self.masks,dtype = 'int')\n",
    "        phi = self.solve(ey,fnull,masks,len(self.selected_clients),fx,0,self.weights)\n",
    "        return phi \n",
    "    \n",
    "    def forward2(self,evaluation=\"loss\"):\n",
    "        #ey= np.zeros((len(self.masks),len(p2p.dataloaders_test[str(10)])))\n",
    "        ey = np.zeros((len(self.masks),p2p.len_test[str(10)]))\n",
    "        # calculate ey, output for all coalitions \n",
    "\n",
    "        for i,coalition in enumerate(self.masks): \n",
    "            selected_clients_coalition = np.concatenate((self.selected_clients[coalition],np.array([10])))\n",
    "            shared_model = self.combine_models(self.p2p,selected_clients_coalition)\n",
    "            shared_model.eval().cuda()\n",
    "            for batch_idx, (data, target) in enumerate(p2p.dataloaders_test[str(10)]):\n",
    "                data = data.double().cuda()\n",
    "                target = target.long().cuda()\n",
    "\n",
    "                ey[i,batch_idx*16:batch_idx*16+len(target)] = F.nll_loss(shared_model(data),target,reduction='none').detach().cpu().numpy()\n",
    "                \n",
    "        #print(ey)\n",
    "\n",
    "        # calculate fnull, prediction without knowledge (empty initialized model)\n",
    "        # we calculate the prediction of an untrained model \n",
    "        #p2p.network.eval().cuda().double()\n",
    "        shared_model = self.combine_models(self.p2p,np.array([10]))\n",
    "        shared_model.eval().cuda()\n",
    "        #fnull = np.zeros((len(p2p.dataloaders_test[str(10)]),1))\n",
    "        fnull = np.zeros((p2p.len_test[str(10)],1))\n",
    "        for batch_idx, (data, target) in enumerate(p2p.dataloaders_test[str(10)]):\n",
    "            data = data.double().cuda()\n",
    "            target = target.long().cuda()\n",
    "            fnull[batch_idx*16:batch_idx*16+len(target)] = np.reshape(F.nll_loss(shared_model(data),target,reduction='none').detach().cpu().numpy(),(len(target),1))\n",
    "        \n",
    "        #print(fnull)\n",
    "        #print(\"untrained model: \",fnull)\n",
    "\n",
    "        # calculate fx \n",
    "        selected_clients = np.concatenate((self.selected_clients,np.array([10])))\n",
    "        shared_model = self.combine_models(self.p2p,selected_clients)\n",
    "        shared_model.eval().cuda()\n",
    "        #fx = np.zeros((len(p2p.dataloaders_test[str(10)]),1))\n",
    "        fx = np.zeros((p2p.len_test[str(10)],1))\n",
    "        for batch_idx, (data, target) in enumerate(p2p.dataloaders_test[str(10)]):\n",
    "            data = data.double().cuda()\n",
    "            target = target.long().cuda()\n",
    "            fx[batch_idx*16:batch_idx*16 + len(target)] = np.reshape(F.nll_loss(shared_model(data),target,reduction='none').detach().cpu().numpy(),(len(target),1))\n",
    "        #print(fx)\n",
    "\n",
    "        masks = np.asarray(self.masks,dtype = 'int')\n",
    "        #phi = self.solve(ey,fnull,masks,len(self.selected_clients),fx,0,self.weights)\n",
    "        return ey, fnull, fx , masks, self.weights\n",
    "    \n",
    "        \n",
    "selected_clients = np.array([0,1,2,3,4,5,6,7,8,9])\n",
    "samples = 200\n",
    "\n",
    "phi_my_new = np.zeros((1,10))\n",
    "for i in range(1):\n",
    "    calc_shap = calculate_SHAP(selected_clients,p2p.dataloaders_test[str(10)],samples,p2p)\n",
    "        "
   ]
  },
  {
   "cell_type": "code",
   "execution_count": 11,
   "id": "fcb801b9",
   "metadata": {},
   "outputs": [
    {
     "name": "stdout",
     "output_type": "stream",
     "text": [
      "weights:  [0.43333333 0.07638889 0.07555556 0.07575758 0.07407407 0.07575758\n",
      " 0.07555556 0.07638889 0.43333333]\n",
      "we took:  199  samples instead of  200  samples\n",
      "1.3961447811447811\n"
     ]
    },
    {
     "data": {
      "image/png": "[encoded data removed]",
      "text/plain": [
       "<Figure size 432x288 with 4 Axes>"
      ]
     },
     "metadata": {
      "needs_background": "light"
     },
     "output_type": "display_data"
    }
   ],
   "source": [
    "blub = SHAP_kernel(10,200,verbose=True)\n",
    "blub.forward_shap()"
   ]
  },
  {
   "cell_type": "code",
   "execution_count": 12,
   "id": "d9f27d7d",
   "metadata": {},
   "outputs": [
    {
     "name": "stdout",
     "output_type": "stream",
     "text": [
      "25\n",
      "385\n",
      "8.288387537002563\n"
     ]
    }
   ],
   "source": [
    "from time import time \n",
    "print(len(p2p.dataloaders_test[str(10)]))\n",
    "print(p2p.len_test[str(10)])\n",
    "before = time()\n",
    "calc_shap2 = calculate_SHAP(selected_clients,dataset_train,200,p2p)\n",
    "ey, fnull, fx , masks, weights = calc_shap2.forward2()\n",
    "after = time() - before \n",
    "print(after)"
   ]
  },
  {
   "cell_type": "code",
   "execution_count": 13,
   "id": "1ccaebc4",
   "metadata": {},
   "outputs": [
    {
     "name": "stdout",
     "output_type": "stream",
     "text": [
      "(199, 385)\n",
      "[0.00153147 0.03792704 0.02661943 0.08237015 0.03895835 0.03125873\n",
      " 0.03165885 0.06845341 0.05733867 0.05416123]\n"
     ]
    },
    {
     "data": {
      "image/png": "[encoded data removed]",
      "text/plain": [
       "<Figure size 432x288 with 1 Axes>"
      ]
     },
     "metadata": {
      "needs_background": "light"
     },
     "output_type": "display_data"
    }
   ],
   "source": [
    "print(np.shape(ey))\n",
    "plt.plot(ey[0:10,0]-fnull[0])\n",
    "dub = np.zeros((345,10))\n",
    "for i in range(345):\n",
    "    #print(ey[0:10,0]-fnull[0])\n",
    "    dub[i,:] = ey[0:10,i]-fnull[i]\n",
    "print(np.mean(dub,axis=0))"
   ]
  },
  {
   "cell_type": "code",
   "execution_count": 15,
   "id": "ce1d46ea",
   "metadata": {},
   "outputs": [
    {
     "name": "stdout",
     "output_type": "stream",
     "text": [
      "[10. 32. 25. 22. 21. 22. 25. 32. 10.]\n",
      "[ 1  7  8 11 11  8 18 23  9]\n",
      "[1.         0.14285714 0.125      0.09090909 0.09090909 0.125\n",
      " 0.05555556 0.04347826 0.11111111]\n"
     ]
    },
    {
     "data": {
      "image/png": "[encoded data removed]",
      "text/plain": [
       "<Figure size 432x288 with 1 Axes>"
      ]
     },
     "metadata": {
      "needs_background": "light"
     },
     "output_type": "display_data"
    }
   ],
   "source": [
    "indices = np.argwhere(masks[:,7]==1)\n",
    "#print(indices)\n",
    "number = np.zeros(len(indices))\n",
    "for j,index in enumerate(indices): \n",
    "    number[j] = np.sum(masks[index,:])\n",
    "plt.plot(indices,number,'.')\n",
    "print(calc_shap.discrete_shap)\n",
    "unique, counts = np.unique(number,return_counts=True)\n",
    "print(counts)\n",
    "print(1/counts)\n",
    "coalition_object = create_coalitions(calc_shap.adjusted,calc_shap.weights,calc_shap.n_clients)\n",
    "masks2, weights2 = coalition_object.forward()"
   ]
  },
  {
   "cell_type": "code",
   "execution_count": 54,
   "id": "97403716",
   "metadata": {},
   "outputs": [
    {
     "name": "stdout",
     "output_type": "stream",
     "text": [
      "(199, 10)\n",
      "(199,)\n",
      "\n"
     ]
    },
    {
     "data": {
      "text/plain": [
       "[<matplotlib.lines.Line2D at 0x7f97fc4564c0>]"
      ]
     },
     "execution_count": 54,
     "metadata": {},
     "output_type": "execute_result"
    },
    {
     "data": {
      "image/png": "[encoded data removed]",
      "text/plain": [
       "<Figure size 432x288 with 1 Axes>"
      ]
     },
     "metadata": {
      "needs_background": "light"
     },
     "output_type": "display_data"
    }
   ],
   "source": [
    "print(np.shape(masks))\n",
    "#print(np.argwhere(masks[:,8]==1))\n",
    "indices = np.argwhere(masks[:,8]==1)\n",
    "plt.plot(indices,weights[indices])\n",
    "#plt.plot(w[:200])\n",
    "w_new = copy.deepcopy(weights[:199])\n",
    "print(np.shape(w_new))\n",
    "print()\n",
    "w_new[11:] = 0 # weights[189:199]/10\n",
    "plt.plot(w_new)\n",
    "plt.plot(weights2[:199])"
   ]
  },
  {
   "cell_type": "code",
   "execution_count": 55,
   "id": "7e498d37",
   "metadata": {},
   "outputs": [
    {
     "name": "stdout",
     "output_type": "stream",
     "text": [
      "[0.09976436 0.18800118 0.19708146 0.10704339 0.10661598 0.09869893\n",
      " 0.09589624 0.10868194 0.10641012 0.16823293]\n"
     ]
    }
   ],
   "source": [
    "dub = np.zeros((385,10))\n",
    "for i in range(385):\n",
    "    #print(ey[0:10,0]-fnull[0])\n",
    "    dub[i,:] = ey[189:,i]-fnull[i]\n",
    "print(np.mean(dub,axis=0))"
   ]
  },
  {
   "cell_type": "code",
   "execution_count": 57,
   "id": "54d7313b",
   "metadata": {},
   "outputs": [
    {
     "name": "stdout",
     "output_type": "stream",
     "text": [
      "49.997436074395985\n",
      "2.0041746437988315\n"
     ]
    }
   ],
   "source": [
    "print(np.sum(fx))\n",
    "print(np.sum(fnull))"
   ]
  },
  {
   "cell_type": "code",
   "execution_count": 118,
   "id": "5b350b93",
   "metadata": {},
   "outputs": [
    {
     "name": "stdout",
     "output_type": "stream",
     "text": [
      "[0.0195 0.0195 0.0195 0.0195 0.0195 0.0195 0.0195 0.0195 0.0195 0.0195]\n",
      "(69252, 10)\n",
      "(69252,)\n",
      "(69252,)\n",
      "[-0.03490324  0.02651316  0.01321022  0.04794335  0.02984588  0.02574859\n",
      "  0.01900544 -0.03102835 -0.03966587  0.02785939]\n"
     ]
    },
    {
     "data": {
      "text/plain": [
       "[<matplotlib.lines.Line2D at 0x7f976b8a39a0>]"
      ]
     },
     "execution_count": 118,
     "metadata": {},
     "output_type": "execute_result"
    },
    {
     "data": {
      "image/png": "[encoded data removed]",
      "text/plain": [
       "<Figure size 432x288 with 1 Axes>"
      ]
     },
     "metadata": {
      "needs_background": "light"
     },
     "output_type": "display_data"
    }
   ],
   "source": [
    "# Transform to k-dimensional least squares problem \n",
    "from sklearn.linear_model import LinearRegression\n",
    "k = 348\n",
    "dim = 0 \n",
    "M = 10\n",
    "maskMatrix = masks\n",
    "\n",
    "#eyAdj = ey[dim,:] - fnull[dim]\n",
    "#nonzero_inds = np.arange(M)\n",
    "# eliminate one variable with the constraint that all features sum to the output\n",
    "#eyAdj2 = eyAdj - maskMatrix[:, nonzero_inds[-1]] * (\n",
    "#            (fx[dim]) - (fnull[dim]))\n",
    "eyAdjb = np.zeros((199*k))\n",
    "eyAdj2b = np.zeros((199*k))\n",
    "#print(np.shape(ey.T))\n",
    "for kk in range(k): \n",
    "    #print(np.shape(ey[kk,:] -fnull_array[kk]))\n",
    "    eyAdjb[kk*199:(kk+1)*199] = ey[:,kk] -fnull[kk]\n",
    "    \n",
    "    nonzero_inds = np.arange(M)\n",
    "# eliminate one variable with the constraint that all features sum to the output\n",
    "    #eyAdj2b[kk*199:(kk+1)*199] = eyAdjb[kk*199:(kk+1)*199] - maskMatrix[:, nonzero_inds[-1]] * (\n",
    "    #        (fx_array[kk]) - (fnull_array[kk]))\n",
    "    eyAdj2b[kk*199:(kk+1)*199] = eyAdjb[kk*199:(kk+1)*199] #/ np.sum(eyAdjb[kk*199:(kk+1)*199])\n",
    "    \n",
    "    \n",
    "#etmp = np.transpose(np.transpose(maskMatrix[:, nonzero_inds[:-1]]) - maskMatrix[:, nonzero_inds[-1]]) # this is our x\n",
    "etmp = maskMatrix #np.transpose(np.transpose(maskMatrix[:, nonzero_inds[:]]))\n",
    "X = np.tile(etmp, (k,1))\n",
    "y = eyAdj2b \n",
    "#w = np.tile(weights2[:199], k)\n",
    "w = np.tile(weights[:199], k)\n",
    "#w = np.tile(w_new[:199], k)\n",
    "print(w[189:199])\n",
    "print(np.shape(X))\n",
    "print(np.shape(y))\n",
    "print(np.shape(w))\n",
    "#print(y)\n",
    "reg = LinearRegression(fit_intercept=False).fit(X,y,sample_weight=w)\n",
    "phi_raw2 = reg.coef_ \n",
    "print(phi_raw2)\n",
    "plt.plot(phi_raw2)\n"
   ]
  },
  {
   "cell_type": "code",
   "execution_count": 154,
   "id": "d1c44bff",
   "metadata": {},
   "outputs": [
    {
     "name": "stdout",
     "output_type": "stream",
     "text": [
      "[False False False ...  True  True  True]\n",
      "[-0.03975597  0.03663788  0.02132678  0.05724319  0.02851445  0.03425849\n",
      "  0.02666975 -0.04766672 -0.05121897  0.03566545]\n"
     ]
    },
    {
     "data": {
      "text/plain": [
       "[<matplotlib.lines.Line2D at 0x7f9769b395b0>]"
      ]
     },
     "execution_count": 154,
     "metadata": {},
     "output_type": "execute_result"
    },
    {
     "data": {
      "image/png": "[encoded data removed]",
      "text/plain": [
       "<Figure size 432x288 with 1 Axes>"
      ]
     },
     "metadata": {
      "needs_background": "light"
     },
     "output_type": "display_data"
    }
   ],
   "source": [
    "print(eyAdjb>0)\n",
    "#plt.plot(eyAdjb[eyAdjb<0])\n",
    "\n",
    "reg = LinearRegression(fit_intercept=False).fit(X[eyAdjb>0],y[eyAdjb>0],sample_weight=w[eyAdjb>0])\n",
    "phi_raw2 = reg.coef_ \n",
    "print(phi_raw2)\n",
    "plt.plot(phi_raw2)"
   ]
  },
  {
   "cell_type": "code",
   "execution_count": 160,
   "id": "c4b28815",
   "metadata": {},
   "outputs": [
    {
     "name": "stdout",
     "output_type": "stream",
     "text": [
      "2.0041746437988315\n",
      "385\n",
      "(199, 385)\n",
      "[ 2.85067561 34.23242731 28.46502853 57.77997824 42.66504333 31.44413806\n",
      " 31.63388345 26.40855657 23.37118121 41.93235146]\n"
     ]
    }
   ],
   "source": [
    "print(np.sum(fnull))\n",
    "print(len(fnull))\n",
    "print(np.shape(ey))\n",
    "print(np.sum(ey[:10,:],axis=1))"
   ]
  },
  {
   "cell_type": "code",
   "execution_count": 165,
   "id": "681a52f6",
   "metadata": {},
   "outputs": [
    {
     "name": "stdout",
     "output_type": "stream",
     "text": [
      "5.814358681478112\n"
     ]
    }
   ],
   "source": [
    "shared_model = calc_shap2.combine_models(p2p,[0])\n",
    "shared_model.eval().cuda()\n",
    "ey2 = np.zeros(384)\n",
    "for batch_idx, (data, target) in enumerate(p2p.dataloaders_test[str(10)]):\n",
    "    data = data.double().cuda()\n",
    "    target = target.long().cuda()\n",
    "\n",
    "    ey2[batch_idx*16:batch_idx*16+len(target)] = F.nll_loss(shared_model(data),target,reduction='none').detach().cpu().numpy()\n",
    "print(np.sum(ey2))"
   ]
  },
  {
   "cell_type": "code",
   "execution_count": 162,
   "id": "d293360f",
   "metadata": {},
   "outputs": [
    {
     "name": "stdout",
     "output_type": "stream",
     "text": [
      "2.8506505047278092\n"
     ]
    }
   ],
   "source": [
    "print(np.sum(ey2))"
   ]
  },
  {
   "cell_type": "code",
   "execution_count": 108,
   "id": "83b04ace",
   "metadata": {},
   "outputs": [
    {
     "name": "stdout",
     "output_type": "stream",
     "text": [
      "[10. 32. 25. 22. 21. 22. 25. 32. 10.]\n",
      "[ 10.  42.  67.  89. 110. 132. 157. 189. 199.]\n",
      "[  0.  10.  42.  67.  89. 110. 132. 157. 189. 199.]\n",
      "[0.08332033 0.11652203 0.1735685  0.09663771 0.16963868 0.14690778\n",
      " 0.1395162  0.14554028 0.1328483 ]\n",
      "0.00520564842545151\n"
     ]
    },
    {
     "data": {
      "text/plain": [
       "[<matplotlib.lines.Line2D at 0x7f976bd59ac0>]"
      ]
     },
     "execution_count": 108,
     "metadata": {},
     "output_type": "execute_result"
    },
    {
     "data": {
      "image/png": "[encoded data removed]",
      "text/plain": [
       "<Figure size 432x288 with 1 Axes>"
      ]
     },
     "metadata": {
      "needs_background": "light"
     },
     "output_type": "display_data"
    }
   ],
   "source": [
    "print(calc_shap.discrete_shap)\n",
    "print(np.cumsum(calc_shap.discrete_shap))\n",
    "blub = np.cumsum(calc_shap.discrete_shap)\n",
    "blub = np.concatenate(([0],blub))\n",
    "print(blub)\n",
    "result = np.zeros(9)\n",
    "for i in range(9): # look at the performance improvement/decrease when using i clients \n",
    "    result[i] = np.mean(ey[int(blub[i]):int(blub[i+1]),:])\n",
    "print(result)\n",
    "print(np.mean(fnull))\n",
    "plt.plot(result/np.mean(fnull))"
   ]
  },
  {
   "cell_type": "code",
   "execution_count": 151,
   "id": "180bb89b",
   "metadata": {},
   "outputs": [
    {
     "name": "stdout",
     "output_type": "stream",
     "text": [
      "0.00520564842545151\n",
      "0.12986347032310647\n"
     ]
    },
    {
     "data": {
      "text/plain": [
       "[<matplotlib.lines.Line2D at 0x7f9769b49f40>]"
      ]
     },
     "execution_count": 151,
     "metadata": {},
     "output_type": "execute_result"
    },
    {
     "data": {
      "image/png": "[encoded data removed]",
      "text/plain": [
       "<Figure size 432x288 with 1 Axes>"
      ]
     },
     "metadata": {
      "needs_background": "light"
     },
     "output_type": "display_data"
    }
   ],
   "source": [
    "#plt.plot(np.mean(ey,axis=1))\n",
    "#plt.plot(np.repeat(np.mean(fnull),200))\n",
    "# \n",
    "print(np.mean(fnull))\n",
    "print(np.mean(fx))\n",
    "new_weights = np.abs(np.mean(ey,axis=1))\n",
    "plt.plot(new_weights)\n",
    "plt.plot(np.repeat(np.mean(fx),200))\n",
    "plt.plot(np.repeat(np.mean(fnull),200))\n",
    "indices = np.where(np.mean(ey,axis=1) <np.repeat(np.mean(fx),199))\n",
    "plt.plot(indices[0],new_weights[indices],'.r')"
   ]
  },
  {
   "cell_type": "code",
   "execution_count": 153,
   "id": "d3c5f137",
   "metadata": {},
   "outputs": [
    {
     "name": "stdout",
     "output_type": "stream",
     "text": [
      "(1, 113)\n"
     ]
    }
   ],
   "source": [
    "print(np.shape(indices))"
   ]
  },
  {
   "cell_type": "code",
   "execution_count": 147,
   "id": "22db9587",
   "metadata": {},
   "outputs": [],
   "source": [
    "index = []\n",
    "indices = np.ravel(indices)\n",
    "for i in range(340):\n",
    "    indices = indices + np.repeat(199*i,len(indices))\n",
    "    index.append(indices)"
   ]
  },
  {
   "cell_type": "code",
   "execution_count": 150,
   "id": "e5662421",
   "metadata": {},
   "outputs": [
    {
     "name": "stdout",
     "output_type": "stream",
     "text": [
      "(38420,)\n",
      "(38420,)\n",
      "[  0   1   2   4   5   6   7   8   9  12  16  19  20  21  22  23  24  26\n",
      "  27  28  29  30  33  34  36  37  40  41  42  44  45  46  48  50  52  55\n",
      "  56  58  60  63  65  67  68  70  71  72  73  75  77  78  79  81  82  83\n",
      "  84  85  86  87  89  90  91  92  95  96 100 102 106 108 110 111 113 114\n",
      " 119 120 121 122 124 126 128 129 131 135 136 141 142 145 147 148 150 152\n",
      " 154 155 160 161 164 167 170 172 174 177 178 179 180 186 187 188 189 192\n",
      " 193 194 195 196 197 199 200 201 203 204 205 206 207 208 211 215 218 219\n",
      " 220 221 222 223 225 226 227 228 229 232 233 235 236 239 240 241 243 244\n",
      " 245 247 249 251 254 255 257 259 262 264 266 267 269 270 271 272 274 276\n",
      " 277 278 280 281 282 283 284 285 286 288 289 290 291 294 295 299 301 305\n",
      " 307 309 310 312 313 318 319 320 321 323 325 327 328 330 334 335 340 341\n",
      " 344 346 347 349 351 353 354 359 360 363 366 369 371 373 376 377 378 379\n",
      " 385 386 387 388 391 392 393 394 395 396 597 598 599 601 602 603 604 605\n",
      " 606 609 613 616 617 618 619 620 621 623 624 625 626 627 630 631 633 634\n",
      " 637 638 639 641 642 643 645 647 649 652 653 655 657 660 662 664 665 667\n",
      " 668 669 670 672 674 675 676 678 679 680 681 682 683 684 686 687 688 689\n",
      " 692 693 697 699 703 705 707 708 710 711 716 717]\n"
     ]
    }
   ],
   "source": [
    "index = np.array(index)\n",
    "print(np.shape(index))\n",
    "index = np.ravel(index)\n",
    "print(np.shape(index))\n",
    "print(index[:300])"
   ]
  },
  {
   "cell_type": "code",
   "execution_count": 149,
   "id": "3396ae2b",
   "metadata": {},
   "outputs": [
    {
     "name": "stdout",
     "output_type": "stream",
     "text": [
      "[-0.00165121 -0.00106648 -0.00200146 -0.00160478  0.00185845 -0.00101729\n",
      " -0.00186642  0.00714681  0.00320638 -0.00129823]\n"
     ]
    },
    {
     "ename": "IndexError",
     "evalue": "index 69849 is out of bounds for axis 0 with size 69252",
     "output_type": "error",
     "traceback": [
      "\u001b[0;31m---------------------------------------------------------------------------\u001b[0m",
      "\u001b[0;31mIndexError\u001b[0m                                Traceback (most recent call last)",
      "Input \u001b[0;32mIn [149]\u001b[0m, in \u001b[0;36m<cell line: 5>\u001b[0;34m()\u001b[0m\n\u001b[1;32m      3\u001b[0m \u001b[38;5;28mprint\u001b[39m(phi_raw2)\n\u001b[1;32m      4\u001b[0m plt\u001b[38;5;241m.\u001b[39mplot(phi_raw2)\n\u001b[0;32m----> 5\u001b[0m reg \u001b[38;5;241m=\u001b[39m LinearRegression(fit_intercept\u001b[38;5;241m=\u001b[39m\u001b[38;5;28;01mFalse\u001b[39;00m)\u001b[38;5;241m.\u001b[39mfit(\u001b[43mX\u001b[49m\u001b[43m[\u001b[49m\u001b[43mindex\u001b[49m\u001b[43m]\u001b[49m,y[index],sample_weight\u001b[38;5;241m=\u001b[39mw[index])\n\u001b[1;32m      6\u001b[0m phi_raw2 \u001b[38;5;241m=\u001b[39m reg\u001b[38;5;241m.\u001b[39mcoef_ \n\u001b[1;32m      7\u001b[0m \u001b[38;5;28mprint\u001b[39m(phi_raw2)\n",
      "\u001b[0;31mIndexError\u001b[0m: index 69849 is out of bounds for axis 0 with size 69252"
     ]
    },
    {
     "data": {
      "image/png": "[encoded data removed]",
      "text/plain": [
       "<Figure size 432x288 with 1 Axes>"
      ]
     },
     "metadata": {
      "needs_background": "light"
     },
     "output_type": "display_data"
    }
   ],
   "source": [
    "reg = LinearRegression(fit_intercept=False).fit(X[:199],y[:199],sample_weight=w[:199])\n",
    "phi_raw2 = reg.coef_ \n",
    "print(phi_raw2)\n",
    "plt.plot(phi_raw2)\n",
    "reg = LinearRegression(fit_intercept=False).fit(X[index],y[index],sample_weight=w[index])\n",
    "phi_raw2 = reg.coef_ \n",
    "print(phi_raw2)\n",
    "plt.plot(phi_raw2)"
   ]
  },
  {
   "cell_type": "code",
   "execution_count": 79,
   "id": "178f5215",
   "metadata": {},
   "outputs": [
    {
     "name": "stdout",
     "output_type": "stream",
     "text": [
      "(199, 385)\n",
      "(385, 1)\n"
     ]
    },
    {
     "data": {
      "text/plain": [
       "[<matplotlib.lines.Line2D at 0x7f97809ca4c0>]"
      ]
     },
     "execution_count": 79,
     "metadata": {},
     "output_type": "execute_result"
    },
    {
     "data": {
      "image/png": "[encoded data removed]",
      "text/plain": [
       "<Figure size 432x288 with 1 Axes>"
      ]
     },
     "metadata": {
      "needs_background": "light"
     },
     "output_type": "display_data"
    }
   ],
   "source": [
    "print(np.shape(ey))\n",
    "print(np.shape(fnull))\n",
    "plt.plot(ey[:,1])\n",
    "plt.plot(np.repeat(fnull[1],199))\n",
    "better = ey[:,1] < fnull[1]\n",
    "indices = np.where(ey[:,1]<fnull[1])\n",
    "plt.plot(indices[0],ey[better,1],'r.')"
   ]
  },
  {
   "cell_type": "code",
   "execution_count": 59,
   "id": "0058d611",
   "metadata": {},
   "outputs": [
    {
     "data": {
      "text/plain": [
       "[<matplotlib.lines.Line2D at 0x7f97fc399d90>]"
      ]
     },
     "execution_count": 59,
     "metadata": {},
     "output_type": "execute_result"
    },
    {
     "data": {
      "image/png": "[encoded data removed]",
      "text/plain": [
       "<Figure size 432x288 with 1 Axes>"
      ]
     },
     "metadata": {
      "needs_background": "light"
     },
     "output_type": "display_data"
    }
   ],
   "source": [
    "# look at the first 10 coalitions \n",
    "ys = np.zeros((348,10))\n",
    "for j in range(348):\n",
    "    ys[j,:] = y[199*j:199*j+10]\n",
    "\n",
    "sumphi = np.mean(ys,axis=0)\n",
    "plt.plot(sumphi)"
   ]
  },
  {
   "cell_type": "code",
   "execution_count": 60,
   "id": "c435a8ea",
   "metadata": {},
   "outputs": [
    {
     "name": "stdout",
     "output_type": "stream",
     "text": [
      "[0.4413011  0.4760204  0.47428472 0.48551054 0.47837057 0.47544467\n",
      " 0.47511707 0.41894146 0.42095359 0.48263324]\n",
      "[[1 1 1 1 1 1 1 1 1 0]\n",
      " [1 1 1 1 1 1 1 1 0 1]\n",
      " [1 1 1 1 1 1 1 0 1 1]\n",
      " [1 1 1 1 1 1 0 1 1 1]\n",
      " [1 1 1 1 1 0 1 1 1 1]\n",
      " [1 1 1 1 0 1 1 1 1 1]\n",
      " [1 1 1 0 1 1 1 1 1 1]\n",
      " [1 1 0 1 1 1 1 1 1 1]\n",
      " [1 0 1 1 1 1 1 1 1 1]\n",
      " [0 1 1 1 1 1 1 1 1 1]]\n"
     ]
    },
    {
     "data": {
      "image/png": "[encoded data removed]",
      "text/plain": [
       "<Figure size 432x288 with 1 Axes>"
      ]
     },
     "metadata": {
      "needs_background": "light"
     },
     "output_type": "display_data"
    }
   ],
   "source": [
    "# look at the last 10 coalitions \n",
    "ys = np.zeros((348,10))\n",
    "for j in range(348):\n",
    "    ys[j,:] = y[199*j+189:199*j+199]\n",
    "\n",
    "sumphi = np.mean(ys,axis=0)\n",
    "selected_clients = np.array([0,1,2,3,4,5,6,7,8,9])\n",
    "sump = np.zeros(10)\n",
    "for i in range(len(selected_clients)):\n",
    "    selected_clients_2 = np.delete(selected_clients,i)\n",
    "    sump[9-i] = np.sum(sumphi[selected_clients_2])\n",
    "print(sump)\n",
    "plt.plot(sump)\n",
    "print(masks[189:199,:])"
   ]
  },
  {
   "cell_type": "code",
   "execution_count": null,
   "id": "f5e165e0",
   "metadata": {},
   "outputs": [],
   "source": [
    "# show that this mainly has to do with the misclassification of 2's. \n"
   ]
  },
  {
   "cell_type": "code",
   "execution_count": 48,
   "id": "5061e963",
   "metadata": {},
   "outputs": [
    {
     "ename": "NameError",
     "evalue": "name 'phis_single2' is not defined",
     "output_type": "error",
     "traceback": [
      "\u001b[0;31m---------------------------------------------------------------------------\u001b[0m",
      "\u001b[0;31mNameError\u001b[0m                                 Traceback (most recent call last)",
      "Input \u001b[0;32mIn [48]\u001b[0m, in \u001b[0;36m<cell line: 1>\u001b[0;34m()\u001b[0m\n\u001b[0;32m----> 1\u001b[0m plt\u001b[38;5;241m.\u001b[39mplot(np\u001b[38;5;241m.\u001b[39mmean(\u001b[43mphis_single2\u001b[49m,axis\u001b[38;5;241m=\u001b[39m\u001b[38;5;241m0\u001b[39m))\n",
      "\u001b[0;31mNameError\u001b[0m: name 'phis_single2' is not defined"
     ]
    }
   ],
   "source": [
    "plt.plot(np.mean(phis_single2,axis=0))"
   ]
  },
  {
   "cell_type": "code",
   "execution_count": 69,
   "id": "96fd690d",
   "metadata": {},
   "outputs": [
    {
     "name": "stdout",
     "output_type": "stream",
     "text": [
      "(199, 385)\n",
      "(385, 1)\n",
      "(385, 1)\n",
      "(199, 10)\n",
      "(199,)\n"
     ]
    }
   ],
   "source": [
    "print(np.shape(ey))\n",
    "print(np.shape(fnull))\n",
    "print(np.shape(fx))\n",
    "print(np.shape(masks))\n",
    "print(np.shape(weights))"
   ]
  },
  {
   "cell_type": "code",
   "execution_count": 119,
   "id": "76cad1be",
   "metadata": {},
   "outputs": [
    {
     "data": {
      "text/plain": [
       "[<matplotlib.lines.Line2D at 0x147841edca30>]"
      ]
     },
     "execution_count": 119,
     "metadata": {},
     "output_type": "execute_result"
    },
    {
     "data": {
      "image/png": "[encoded data removed]",
      "text/plain": [
       "<Figure size 432x288 with 1 Axes>"
      ]
     },
     "metadata": {
      "needs_background": "light"
     },
     "output_type": "display_data"
    }
   ],
   "source": [
    "plt.plot(eyAdjb)"
   ]
  },
  {
   "cell_type": "code",
   "execution_count": 30,
   "id": "62258505",
   "metadata": {},
   "outputs": [
    {
     "data": {
      "text/plain": [
       "[<matplotlib.lines.Line2D at 0x1478ac592880>]"
      ]
     },
     "execution_count": 30,
     "metadata": {},
     "output_type": "execute_result"
    },
    {
     "data": {
      "image/png": "[encoded data removed]",
      "text/plain": [
       "<Figure size 432x288 with 1 Axes>"
      ]
     },
     "metadata": {
      "needs_background": "light"
     },
     "output_type": "display_data"
    }
   ],
   "source": [
    "plt.plot(eyAdj2b)"
   ]
  },
  {
   "cell_type": "code",
   "execution_count": 108,
   "id": "89335191",
   "metadata": {},
   "outputs": [
    {
     "name": "stdout",
     "output_type": "stream",
     "text": [
      "1583\n",
      "0\n"
     ]
    },
    {
     "name": "stderr",
     "output_type": "stream",
     "text": [
      "/mimer/NOBACKUP/groups/snic2022-22-122/arthur/anaconda3/envs/py38/lib/python3.8/site-packages/torch/nn/functional.py:1338: UserWarning: dropout2d: Received a 3D input to dropout2d and assuming that channel-wise 1D dropout behavior is desired - input is interpreted as shape (N, C, L), where C is the channel dim. This behavior will change in a future release to interpret the input as one without a batch dimension, i.e. shape (C, H, W). To maintain the 1D channel-wise dropout behavior, please switch to using dropout1d instead.\n",
      "  warnings.warn(\"dropout2d: Received a 3D input to dropout2d and assuming that channel-wise \"\n"
     ]
    },
    {
     "name": "stdout",
     "output_type": "stream",
     "text": [
      "1\n",
      "2\n",
      "3\n",
      "4\n",
      "5\n",
      "6\n",
      "7\n",
      "8\n",
      "9\n",
      "10\n",
      "11\n",
      "12\n",
      "13\n",
      "14\n",
      "15\n",
      "16\n",
      "17\n",
      "18\n",
      "19\n",
      "20\n",
      "21\n",
      "22\n",
      "23\n",
      "24\n",
      "25\n",
      "26\n",
      "27\n",
      "28\n",
      "29\n",
      "30\n",
      "31\n",
      "32\n",
      "33\n",
      "34\n",
      "35\n",
      "36\n",
      "37\n",
      "38\n",
      "39\n",
      "40\n",
      "41\n",
      "42\n",
      "43\n",
      "44\n",
      "45\n",
      "46\n",
      "47\n",
      "48\n",
      "49\n",
      "50\n",
      "51\n",
      "52\n",
      "53\n",
      "54\n",
      "55\n",
      "56\n",
      "57\n",
      "58\n",
      "59\n",
      "60\n",
      "61\n",
      "62\n",
      "63\n",
      "64\n",
      "65\n",
      "66\n",
      "67\n",
      "68\n",
      "69\n",
      "70\n",
      "71\n",
      "72\n",
      "73\n",
      "74\n",
      "75\n",
      "76\n",
      "77\n",
      "78\n",
      "79\n",
      "80\n",
      "81\n",
      "82\n",
      "83\n",
      "84\n",
      "85\n",
      "86\n",
      "87\n",
      "88\n",
      "89\n",
      "90\n",
      "91\n",
      "92\n",
      "93\n",
      "94\n",
      "95\n",
      "96\n",
      "97\n",
      "98\n",
      "99\n"
     ]
    }
   ],
   "source": [
    "from time import time \n",
    "# calculate 'ground truth' SV based on only one sample \n",
    "selected_clients = np.array([0,1,2,3,4,5,6,7,8,9])\n",
    "\n",
    "samples = 1022\n",
    "calc_shap = calculate_SHAP(selected_clients,dataset_train,samples,p2p)\n",
    "#calc_shap2 = calculate_SHAP(selected_clients,dataset_train,200,p2p)\n",
    "# calculate phi value for 100 random samples in the train dataset \n",
    "print(len(dataset_train))\n",
    "indices = np.random.randint(348,size=100)\n",
    "\n",
    "# do this for 10 clients: \n",
    "phis_single2 = np.zeros((100,10))\n",
    "fnull_array = np.zeros(100)\n",
    "fx_array = np.zeros(100)\n",
    "ey_array = np.zeros((100,199))\n",
    "for j,i in enumerate(indices): \n",
    "#for i in indices:\n",
    "    print(j)\n",
    "    phi_gt_single2 = calc_shap2.forward(i,evaluation=\"loss\")\n",
    "    fnull_array[j] = calc_shap2.fnull\n",
    "    fx_array[j] = calc_shap2.fx\n",
    "    phis_single2[j,:] = phi_gt_single2#/np.sum(phi_gt_single2)\n",
    "    ey_array[j,:] = np.ravel(calc_shap2.ey)\n"
   ]
  },
  {
   "cell_type": "code",
   "execution_count": null,
   "id": "c3341a46",
   "metadata": {},
   "outputs": [],
   "source": []
  },
  {
   "cell_type": "code",
   "execution_count": 138,
   "id": "468623f0",
   "metadata": {},
   "outputs": [
    {
     "data": {
      "text/plain": [
       "[<matplotlib.lines.Line2D at 0x1459b4ac8460>]"
      ]
     },
     "execution_count": 138,
     "metadata": {},
     "output_type": "execute_result"
    },
    {
     "data": {
      "image/png": "[encoded data removed]",
      "text/plain": [
       "<Figure size 432x288 with 1 Axes>"
      ]
     },
     "metadata": {
      "needs_background": "light"
     },
     "output_type": "display_data"
    }
   ],
   "source": [
    "plt.plot(y)"
   ]
  },
  {
   "cell_type": "code",
   "execution_count": 139,
   "id": "4041fca6",
   "metadata": {},
   "outputs": [
    {
     "data": {
      "text/plain": [
       "[<matplotlib.lines.Line2D at 0x1459b49e8a60>]"
      ]
     },
     "execution_count": 139,
     "metadata": {},
     "output_type": "execute_result"
    },
    {
     "data": {
      "image/png": "[encoded data removed]",
      "text/plain": [
       "<Figure size 432x288 with 1 Axes>"
      ]
     },
     "metadata": {
      "needs_background": "light"
     },
     "output_type": "display_data"
    }
   ],
   "source": [
    "plt.plot(calc_shap2.weights)"
   ]
  },
  {
   "cell_type": "code",
   "execution_count": 82,
   "id": "6a042727",
   "metadata": {},
   "outputs": [
    {
     "name": "stdout",
     "output_type": "stream",
     "text": [
      "(199,)\n"
     ]
    }
   ],
   "source": [
    "dim = 0\n",
    "M = 10 \n",
    "maskMatrix = np.asarray(calc_shap2.masks,dtype = 'int')\n",
    "eyAdj = ey[dim,:] - fnull_array[dim]\n",
    "print(np.shape(eyAdj)) # this is our y \n",
    "s = np.sum(maskMatrix, 1)\n",
    "# do feature selection if we have not well enumerated the space\n",
    "nonzero_inds = np.arange(M)\n",
    "# eliminate one variable with the constraint that all features sum to the output\n",
    "eyAdj2 = eyAdj - maskMatrix[:, nonzero_inds[-1]] * (\n",
    "            (fx_array[dim]) - (fnull_array[dim]))\n",
    "etmp = np.transpose(np.transpose(maskMatrix[:, nonzero_inds[:-1]]) - maskMatrix[:, nonzero_inds[-1]]) # this is our x\n",
    "\n"
   ]
  },
  {
   "cell_type": "code",
   "execution_count": 83,
   "id": "3ac0536b",
   "metadata": {},
   "outputs": [
    {
     "name": "stdout",
     "output_type": "stream",
     "text": [
      "(199,)\n"
     ]
    }
   ],
   "source": [
    "print(np.shape(ey[dim,:]))"
   ]
  },
  {
   "cell_type": "code",
   "execution_count": 88,
   "id": "bfc13df7",
   "metadata": {},
   "outputs": [
    {
     "name": "stdout",
     "output_type": "stream",
     "text": [
      "(199, 9)\n",
      "(199,)\n",
      "(199,)\n",
      "[-0.03823057  0.01365829  0.01032824 -0.03841841  0.01044364  0.00292917\n",
      "  0.01275646  0.00647827  0.01105955  0.00881592]\n",
      "[ 2.84122588e-05 -9.50978280e-05 -1.47165710e-05  1.97944806e-06\n",
      " -2.43449045e-05  1.31015823e-05 -7.20295803e-05  8.06776010e-06\n",
      "  1.11937203e-05 -3.60065538e-05]\n",
      "[-0.03588396  0.00968889  0.0093388  -0.0368585   0.01381635  0.00304845\n",
      "  0.01084023  0.00907289  0.01001535  0.00674205]\n",
      "[-0.03588396  0.00968889  0.0093388  -0.0368585   0.01381635  0.00304845\n",
      "  0.01084023  0.00907289  0.01001535]\n"
     ]
    },
    {
     "data": {
      "text/plain": [
       "[<matplotlib.lines.Line2D at 0x1458f9745be0>]"
      ]
     },
     "execution_count": 88,
     "metadata": {},
     "output_type": "execute_result"
    },
    {
     "data": {
      "image/png": "[encoded data removed]",
      "text/plain": [
       "<Figure size 432x288 with 1 Axes>"
      ]
     },
     "metadata": {
      "needs_background": "light"
     },
     "output_type": "display_data"
    }
   ],
   "source": [
    "from sklearn.linear_model import LinearRegression\n",
    "X = etmp \n",
    "y = eyAdj2\n",
    "w = calc_shap2.weights\n",
    "print(np.shape(X))\n",
    "print(np.shape(y))\n",
    "print(np.shape(w))\n",
    "\n",
    "reg  = LinearRegression().fit(X,y,sample_weight=w)\n",
    "phi_raw = reg.coef_ \n",
    "phi = np.zeros(M)\n",
    "phi[nonzero_inds[:-1]] = phi_raw\n",
    "phi[nonzero_inds[-1]] = ((fx_array[dim]) - (fnull_array[dim])) - sum(phi_raw)\n",
    "#print(reg.coef_)\n",
    "print(phi)\n",
    "print(phis_single2[dim,:])\n",
    "phi3 = calc_shap2.solve(np.reshape(ey[dim],(199,1)),np.reshape(fnull_array[dim],(1,1))\n",
    "                        ,maskMatrix,10,np.reshape(fx_array[dim],(1,1)),dim,w)\n",
    "print(phi3)\n",
    "#plt.plot(X[:,0],y,\".\")\n",
    "tmp = np.transpose(np.transpose(etmp) * np.transpose(w))\n",
    "#print(\"tmp \",np.shape(tmp))\n",
    "etmp_dot = np.dot(np.transpose(tmp), etmp)\n",
    "\n",
    "tmp2 = np.linalg.inv(etmp_dot)\n",
    "phi4 = np.dot(tmp2, np.dot(np.transpose(tmp), eyAdj2))\n",
    "print(phi4)\n",
    "plt.plot(phi)\n",
    "plt.plot(phi4)\n",
    "    "
   ]
  },
  {
   "cell_type": "code",
   "execution_count": 63,
   "id": "f4921dd9",
   "metadata": {},
   "outputs": [
    {
     "name": "stdout",
     "output_type": "stream",
     "text": [
      "[ 2.84122588e-05 -9.50978280e-05 -1.47165710e-05  1.97944806e-06\n",
      " -2.43449045e-05  1.31015823e-05 -7.20295803e-05  8.06776010e-06\n",
      "  1.11937203e-05]\n"
     ]
    },
    {
     "name": "stderr",
     "output_type": "stream",
     "text": [
      "/local/tmp.856566/ipykernel_3396731/1983699831.py:4: FutureWarning: `rcond` parameter will change to the default of machine precision times ``max(M, N)`` where M and N are the input matrix dimensions.\n",
      "To use the future default and silence this warning we advise to pass `rcond=None`, to keep using the old, explicitly pass `rcond=-1`.\n",
      "  aaa= np.linalg.lstsq(Xw,yw)\n"
     ]
    },
    {
     "data": {
      "text/plain": [
       "[<matplotlib.lines.Line2D at 0x14590c0d88e0>]"
      ]
     },
     "execution_count": 63,
     "metadata": {},
     "output_type": "execute_result"
    },
    {
     "data": {
      "image/png": "[encoded data removed]",
      "text/plain": [
       "<Figure size 432x288 with 1 Axes>"
      ]
     },
     "metadata": {
      "needs_background": "light"
     },
     "output_type": "display_data"
    }
   ],
   "source": [
    "W = np.sqrt(np.diag(w))\n",
    "Xw = np.dot(W,X)\n",
    "yw = np.dot(y,W)\n",
    "aaa= np.linalg.lstsq(Xw,yw)\n",
    "print(aaa[0])\n",
    "phi5 = np.zeros(M)\n",
    "phi5[nonzero_inds[:-1]] = aaa[0]\n",
    "phi5[nonzero_inds[-1]] = ((fx_array[dim]) - (fnull_array[dim])) - sum(aaa[0])\n",
    "plt.plot(phi5)"
   ]
  },
  {
   "cell_type": "code",
   "execution_count": null,
   "id": "37dee77e",
   "metadata": {},
   "outputs": [],
   "source": []
  },
  {
   "cell_type": "code",
   "execution_count": 17,
   "id": "41c769ff",
   "metadata": {},
   "outputs": [
    {
     "data": {
      "image/png": "[encoded data removed]",
      "text/plain": [
       "<Figure size 432x288 with 1 Axes>"
      ]
     },
     "metadata": {
      "needs_background": "light"
     },
     "output_type": "display_data"
    }
   ],
   "source": [
    "plt.plot(phis_single2.T);"
   ]
  },
  {
   "cell_type": "code",
   "execution_count": null,
   "id": "f42eb42a",
   "metadata": {},
   "outputs": [],
   "source": [
    "def solve(ey,fnull,maskMatrix,M,fx,dim,kernelWeights):\n",
    "        eyAdj = ey[:, dim] - fnull[dim]\n",
    "        s = np.sum(maskMatrix, 1)\n",
    "        # do feature selection if we have not well enumerated the space\n",
    "        nonzero_inds = np.arange(M)\n",
    "        # eliminate one variable with the constraint that all features sum to the output\n",
    "        eyAdj2 = eyAdj - maskMatrix[:, nonzero_inds[-1]] * (\n",
    "                    (fx[dim]) - (fnull[dim]))\n",
    "        etmp = np.transpose(np.transpose(maskMatrix[:, nonzero_inds[:-1]]) - maskMatrix[:, nonzero_inds[-1]])\n",
    "        # solve a weighted least squares equation to estimate phi\n",
    "        tmp = np.transpose(np.transpose(etmp) * np.transpose(kernelWeights))\n",
    "        #print(\"tmp \",np.shape(tmp))\n",
    "        etmp_dot = np.dot(np.transpose(tmp), etmp)\n",
    "        try:\n",
    "            tmp2 = np.linalg.inv(etmp_dot)\n",
    "        except np.linalg.LinAlgError:\n",
    "            tmp2 = np.linalg.pinv(etmp_dot)\n",
    "            warnings.warn(\n",
    "                \"Linear regression equation is singular, Moore-Penrose pseudoinverse is used instead of the regular inverse.\\n\"\n",
    "                \"To use regular inverse do one of the following:\\n\"\n",
    "                \"1) turn up the number of samples,\\n\"\n",
    "                \"2) turn up the L1 regularization with num_features(N) where N is less than the number of samples,\\n\"\n",
    "                \"3) group features together to reduce the number of inputs that need to be explained.\"\n",
    "            )\n",
    "        w = np.dot(tmp2, np.dot(np.transpose(tmp), eyAdj2))\n",
    "        phi = np.zeros(M)\n",
    "        phi[nonzero_inds[:-1]] = w\n",
    "        phi[nonzero_inds[-1]] = ((fx[dim]) - (fnull[dim])) - sum(w)\n",
    "        # clean up any rounding errors\n",
    "        for i in range(M):\n",
    "            if np.abs(phi[i]) < 1e-10:\n",
    "                phi[i] = 0\n",
    "        return phi"
   ]
  },
  {
   "cell_type": "code",
   "execution_count": 14,
   "id": "6d5ffde4",
   "metadata": {},
   "outputs": [
    {
     "name": "stdout",
     "output_type": "stream",
     "text": [
      "[[2.40657901e-04]\n",
      " [5.41295804e-05]\n",
      " [1.49001047e-04]\n",
      " [1.40331342e-04]\n",
      " [1.10599015e-04]\n",
      " [1.63053622e-04]\n",
      " [6.85992683e-05]\n",
      " [1.75397149e-04]\n",
      " [2.38669760e-04]\n",
      " [1.34973161e-04]]\n",
      "[[0.00011899]]\n",
      "[[ True False False ... False False False]\n",
      " [False  True False ... False False False]\n",
      " [False False  True ... False False False]\n",
      " ...\n",
      " [ True  True False ...  True  True  True]\n",
      " [ True False  True ...  True  True  True]\n",
      " [False  True  True ...  True  True  True]]\n"
     ]
    }
   ],
   "source": [
    "print(calc_shap2.ey[:10])\n",
    "print(calc_shap2.fnull)\n",
    "print(np.shape(calc_shap2.masks))"
   ]
  },
  {
   "cell_type": "code",
   "execution_count": 116,
   "id": "33a45914",
   "metadata": {},
   "outputs": [
    {
     "name": "stdout",
     "output_type": "stream",
     "text": [
      "[[0.00018254]]\n",
      "[[0.00049803]]\n",
      "0\n",
      "1\n",
      "2\n",
      "3\n",
      "4\n",
      "5\n",
      "6\n",
      "7\n",
      "8\n",
      "9\n",
      "10\n",
      "11\n",
      "12\n",
      "13\n",
      "14\n",
      "15\n",
      "16\n",
      "17\n",
      "18\n",
      "19\n",
      "20\n",
      "21\n",
      "22\n",
      "23\n",
      "24\n",
      "25\n",
      "26\n",
      "27\n",
      "28\n",
      "29\n",
      "30\n",
      "31\n",
      "32\n",
      "33\n",
      "34\n",
      "35\n",
      "36\n",
      "37\n",
      "38\n",
      "39\n",
      "40\n",
      "41\n",
      "42\n",
      "43\n",
      "44\n",
      "45\n",
      "46\n",
      "47\n",
      "48\n",
      "49\n",
      "50\n",
      "51\n",
      "52\n",
      "53\n",
      "54\n",
      "55\n",
      "56\n",
      "57\n",
      "58\n",
      "59\n",
      "60\n",
      "61\n",
      "62\n",
      "63\n",
      "64\n",
      "65\n",
      "66\n",
      "67\n",
      "68\n",
      "69\n",
      "70\n",
      "71\n",
      "72\n",
      "73\n",
      "74\n",
      "75\n",
      "76\n",
      "77\n",
      "78\n",
      "79\n",
      "80\n",
      "81\n",
      "82\n",
      "83\n",
      "84\n",
      "85\n",
      "86\n",
      "87\n",
      "88\n",
      "89\n",
      "90\n",
      "91\n",
      "92\n",
      "93\n",
      "94\n",
      "95\n",
      "96\n",
      "97\n",
      "98\n",
      "99\n",
      "100\n",
      "101\n",
      "102\n",
      "103\n",
      "104\n",
      "105\n",
      "106\n",
      "107\n",
      "108\n",
      "109\n",
      "110\n",
      "111\n",
      "112\n",
      "113\n",
      "114\n",
      "115\n",
      "116\n",
      "117\n",
      "118\n",
      "119\n",
      "120\n",
      "121\n",
      "122\n",
      "123\n",
      "124\n",
      "125\n",
      "126\n",
      "127\n",
      "128\n",
      "129\n",
      "130\n",
      "131\n",
      "132\n",
      "133\n",
      "134\n",
      "135\n",
      "136\n",
      "137\n",
      "138\n",
      "139\n",
      "140\n",
      "141\n",
      "142\n",
      "143\n",
      "144\n",
      "145\n",
      "146\n",
      "147\n",
      "148\n",
      "149\n",
      "150\n",
      "151\n",
      "152\n",
      "153\n",
      "154\n",
      "155\n",
      "156\n",
      "157\n",
      "158\n",
      "159\n",
      "160\n",
      "161\n",
      "162\n",
      "163\n",
      "164\n",
      "165\n",
      "166\n",
      "167\n",
      "168\n",
      "169\n",
      "170\n",
      "171\n",
      "172\n",
      "173\n",
      "174\n",
      "175\n",
      "176\n",
      "177\n",
      "178\n",
      "179\n",
      "180\n",
      "181\n",
      "182\n",
      "183\n",
      "184\n",
      "185\n",
      "186\n",
      "187\n",
      "188\n",
      "189\n",
      "190\n",
      "191\n",
      "192\n",
      "193\n",
      "194\n",
      "195\n",
      "196\n",
      "197\n",
      "198\n",
      "199\n",
      "200\n",
      "201\n",
      "202\n",
      "203\n",
      "204\n",
      "205\n",
      "206\n",
      "207\n",
      "208\n",
      "209\n",
      "210\n",
      "211\n",
      "212\n",
      "213\n",
      "214\n",
      "215\n",
      "216\n",
      "217\n",
      "218\n",
      "219\n",
      "220\n",
      "221\n",
      "222\n",
      "223\n",
      "224\n",
      "225\n",
      "226\n",
      "227\n",
      "228\n",
      "229\n",
      "230\n",
      "231\n",
      "232\n",
      "233\n",
      "234\n",
      "235\n",
      "236\n",
      "237\n",
      "238\n",
      "239\n",
      "240\n",
      "241\n",
      "242\n",
      "243\n",
      "244\n",
      "245\n",
      "246\n",
      "247\n",
      "248\n",
      "249\n",
      "250\n",
      "251\n",
      "252\n",
      "253\n",
      "254\n",
      "255\n",
      "256\n",
      "257\n",
      "258\n",
      "259\n",
      "260\n",
      "261\n",
      "262\n",
      "263\n",
      "264\n",
      "265\n",
      "266\n",
      "267\n",
      "268\n",
      "269\n",
      "270\n",
      "271\n",
      "272\n",
      "273\n",
      "274\n",
      "275\n",
      "276\n",
      "277\n",
      "278\n",
      "279\n",
      "280\n",
      "281\n",
      "282\n",
      "283\n",
      "284\n",
      "285\n",
      "286\n",
      "287\n",
      "288\n",
      "289\n",
      "290\n",
      "291\n",
      "292\n",
      "293\n",
      "294\n",
      "295\n",
      "296\n",
      "297\n",
      "298\n",
      "299\n",
      "300\n",
      "301\n",
      "302\n",
      "303\n",
      "304\n",
      "305\n",
      "306\n",
      "307\n",
      "308\n",
      "309\n",
      "310\n",
      "311\n",
      "312\n",
      "313\n",
      "314\n",
      "315\n",
      "316\n",
      "317\n",
      "318\n",
      "319\n",
      "320\n",
      "321\n",
      "322\n",
      "323\n",
      "324\n",
      "325\n",
      "326\n",
      "327\n",
      "328\n",
      "329\n",
      "330\n",
      "331\n",
      "332\n",
      "333\n",
      "334\n",
      "335\n",
      "336\n",
      "337\n",
      "338\n",
      "339\n",
      "340\n",
      "341\n",
      "342\n",
      "343\n",
      "344\n",
      "345\n",
      "346\n",
      "347\n",
      "0\n",
      "0\n"
     ]
    }
   ],
   "source": [
    "print(calc_shap2.fnull)\n",
    "print(calc_shap2.fx)\n",
    "#print(np.sum(phis_single[24,:]))\n",
    "#print(calc_shap2.fx + np.sum(phis_single[24,:]))\n",
    "#print(phis_single[24,:])\n",
    "shared_model = calc_shap2.combine_models(p2p,np.array([0,10]))\n",
    "shared_model2 = calc_shap2.combine_models(p2p,np.array([10]))\n",
    "shared_model3 = calc_shap2.combine_models(p2p,np.array([0,8,10]))\n",
    "shared_model.eval()\n",
    "shared_model2.eval()\n",
    "shared_model3.eval()\n",
    "\n",
    "f_null = 0 \n",
    "f_opt = 0 \n",
    "f_opt3 = 0 \n",
    "fx = np.zeros((348,1))\n",
    "fnull = np.zeros((348,1))\n",
    "#fopt = np.zeros((385,1))\n",
    "#fopt3 = np.zeros((385,1))\n",
    "phi_gt_single = np.zeros((348,10))\n",
    "k = 0 \n",
    "for batch_idx, (data, target) in enumerate(p2p.dataloaders_test[str(10)]):\n",
    "    for ii in range(len(target)):\n",
    "        instance = (data[ii],target[ii])\n",
    "        print(k)\n",
    "#print(data[0][0][6])\n",
    "        #f_null += F.nll_loss(shared_model2(instance[0].cuda()),instance[1].long().cuda().unsqueeze(0)).detach().cpu().numpy()\n",
    "        #f_opt += F.nll_loss(shared_model(instance[0].cuda()),instance[1].long().cuda().unsqueeze(0)).detach().cpu().numpy()\n",
    "        #f_opt3 += F.nll_loss(shared_model3(instance[0].cuda()),instance[1].long().cuda().unsqueeze(0)).detach().cpu().numpy()\n",
    "        #fopt3[k]= F.nll_loss(shared_model3(instance[0].cuda()),instance[1].long().cuda().unsqueeze(0)).detach().cpu().numpy()\n",
    "\n",
    "    #print(np.shape(calc_shap2.forward(k,evaluation=\"loss\")))\n",
    "        \n",
    "        phi_gt_single[k,:] =calc_shap2.forward(k,evaluation=\"loss\")\n",
    "        #fopt[k] = F.nll_loss(shared_model(instance[0].cuda()),instance[1].long().cuda().unsqueeze(0)).detach().cpu().numpy()\n",
    "        #fopt2[k] = F.nll_loss(shared_model3(instance[0].cuda()),instance[1].long().cuda().unsqueeze(0)).detach().cpu().numpy()\n",
    "        \n",
    "        \n",
    "        fnull[k] = calc_shap2.fnull\n",
    "        fx[k] = calc_shap2.fx\n",
    "        #\n",
    "        k += 1 \n",
    "print(f_null)\n",
    "print(f_opt)\n"
   ]
  },
  {
   "cell_type": "code",
   "execution_count": 127,
   "id": "5dc896d7",
   "metadata": {},
   "outputs": [
    {
     "data": {
      "text/plain": [
       "[<matplotlib.lines.Line2D at 0x14e34e3c19d0>]"
      ]
     },
     "execution_count": 127,
     "metadata": {},
     "output_type": "execute_result"
    },
    {
     "data": {
      "image/png": "[encoded data removed]",
      "text/plain": [
       "<Figure size 432x288 with 1 Axes>"
      ]
     },
     "metadata": {
      "needs_background": "light"
     },
     "output_type": "display_data"
    }
   ],
   "source": [
    "plt.plot(fx-fnull)"
   ]
  },
  {
   "cell_type": "code",
   "execution_count": 93,
   "id": "b532c5e0",
   "metadata": {},
   "outputs": [],
   "source": [
    "phi_gt_normalized = np.zeros((385,10))\n",
    "phi_gt_normalized2 = np.zeros((385,10))\n",
    "phi_gt_normalized3 = np.zeros((385,10))\n",
    "for i in range(385):\n",
    "    #print(phi_gt_single[i,:])\n",
    "    phi_gt_normalized[i,:] = phi_gt_single[i,:] - np.mean(phi_gt_single[i,:])\n",
    "   # print(phi_gt_normalized[i,:])\n",
    "    phi_gt_normalized[i,:] = phi_gt_normalized[i,:]/np.sum(np.abs(phi_gt_normalized[i,:]))*fnull[i]\n",
    "    phi_gt_normalized2[i,:] = phi_gt_single[i,:]/(fx[i]-fnull[i]) #np.sum(np.abs(phi_gt_single[i,:]))\n",
    "    phi_gt_normalized3[i,:] = phi_gt_single[i,:]/np.mean(phi_gt_single[i,:])\n"
   ]
  },
  {
   "cell_type": "code",
   "execution_count": 119,
   "id": "88c2982a",
   "metadata": {},
   "outputs": [
    {
     "name": "stdout",
     "output_type": "stream",
     "text": [
      "[ 60. 134.  99. 110.  57.   7.  65.  67.  34.  31.]\n"
     ]
    }
   ],
   "source": [
    "# instead of normalizing, just count how often participating with this client would bring the loss down. \n",
    "phi_count = np.zeros((348,10))\n",
    "#epsilon = -0.0001\n",
    "phi_benefit = np.zeros((348,10))\n",
    "phi_loss = np.zeros((348,10))\n",
    "\n",
    "for i in range(348): \n",
    "    negative_indices = phi_gt_single[i,:] < 0 + epsilon\n",
    "    positive_indices = phi_gt_single[i,:] >= 0 + epsilon  \n",
    "    \n",
    "    phi_count[i,negative_indices] = 1 \n",
    "    phi_benefit[i,negative_indices] = -fnull[i]#phi_gt_single[i,negative_indices]\n",
    "    phi_loss[i,positive_indices] = fnull[i]#phi_gt_single[i,positive_indices]\n",
    "print(np.sum(phi_count,axis=0))"
   ]
  },
  {
   "cell_type": "code",
   "execution_count": 159,
   "id": "e0eec05a",
   "metadata": {},
   "outputs": [
    {
     "name": "stdout",
     "output_type": "stream",
     "text": [
      "[ 1.13943295e-04 -1.01335310e-03 -1.25959046e-03 -4.16405192e-04\n",
      "  3.22309484e-04  1.36391200e-03  2.64272355e-03  4.84018235e-04\n",
      " -7.89925213e-05  1.63336081e-03]\n",
      "[-0.00664493 -0.00777223 -0.00801847 -0.00717528 -0.00643657 -0.00539496\n",
      " -0.00411615 -0.00627486 -0.00683787 -0.00512551]\n"
     ]
    }
   ],
   "source": [
    "print(phi_gt_single[1,:10])\n",
    "print(phi_gt_single[1,:10]-fnull[1])"
   ]
  },
  {
   "cell_type": "code",
   "execution_count": 154,
   "id": "3cb16317",
   "metadata": {},
   "outputs": [
    {
     "name": "stdout",
     "output_type": "stream",
     "text": [
      "[-0.00030872 -0.00103559 -0.0008804  -0.0002291  -0.00010011  0.00039628\n",
      "  0.00022679 -0.00051813  0.00012661  0.00044232]\n"
     ]
    },
    {
     "data": {
      "image/png": "[encoded data removed]",
      "text/plain": [
       "<Figure size 432x288 with 1 Axes>"
      ]
     },
     "metadata": {
      "needs_background": "light"
     },
     "output_type": "display_data"
    }
   ],
   "source": [
    "plt.plot(np.mean(phi_gt_single,axis=0))\n",
    "print(np.mean(phi_gt_single,axis=0))"
   ]
  },
  {
   "cell_type": "code",
   "execution_count": 151,
   "id": "8c0606d0",
   "metadata": {},
   "outputs": [
    {
     "data": {
      "text/plain": [
       "[<matplotlib.lines.Line2D at 0x14e3418ec790>]"
      ]
     },
     "execution_count": 151,
     "metadata": {},
     "output_type": "execute_result"
    },
    {
     "data": {
      "image/png": "[encoded data removed]",
      "text/plain": [
       "<Figure size 432x288 with 1 Axes>"
      ]
     },
     "metadata": {
      "needs_background": "light"
     },
     "output_type": "display_data"
    }
   ],
   "source": [
    "plt.plot(np.sum(phi_gt_single-fnull,axis=1))"
   ]
  },
  {
   "cell_type": "code",
   "execution_count": 148,
   "id": "cda31ad2",
   "metadata": {},
   "outputs": [
    {
     "data": {
      "text/plain": [
       "[<matplotlib.lines.Line2D at 0x14e316589af0>]"
      ]
     },
     "execution_count": 148,
     "metadata": {},
     "output_type": "execute_result"
    },
    {
     "data": {
      "image/png": "[encoded data removed]",
      "text/plain": [
       "<Figure size 432x288 with 1 Axes>"
      ]
     },
     "metadata": {
      "needs_background": "light"
     },
     "output_type": "display_data"
    }
   ],
   "source": [
    "plt.plot(np.sum(phi_gt_single,axis=0))"
   ]
  },
  {
   "cell_type": "code",
   "execution_count": 147,
   "id": "c2250e90",
   "metadata": {},
   "outputs": [
    {
     "name": "stdout",
     "output_type": "stream",
     "text": [
      "[-2.06714928e-05 -6.92974299e-05 -5.21781969e-05  6.46456379e-06\n",
      "  5.26995430e-06  2.66146703e-05  3.32431905e-05 -2.00830990e-05\n",
      "  4.23328815e-06  3.72279310e-05]\n"
     ]
    },
    {
     "data": {
      "image/png": "[encoded data removed]",
      "text/plain": [
       "<Figure size 432x288 with 1 Axes>"
      ]
     },
     "metadata": {
      "needs_background": "light"
     },
     "output_type": "display_data"
    }
   ],
   "source": [
    "plt.plot(np.mean(phi_gt_single*fx,axis=0))\n",
    "print(np.mean(phi_gt_single*fx,axis=0))"
   ]
  },
  {
   "cell_type": "code",
   "execution_count": 121,
   "id": "d9403437",
   "metadata": {},
   "outputs": [
    {
     "name": "stdout",
     "output_type": "stream",
     "text": [
      "[-1.9127335  -2.19326149 -2.12134431 -1.99598699 -1.76123688 -0.22955995\n",
      " -1.70582829 -1.66784456 -1.58146774 -1.39929049]\n",
      "[0.54074575 0.26021776 0.33213494 0.45749226 0.69224237 2.2239193\n",
      " 0.74765096 0.78563469 0.87201151 1.05418876]\n",
      "[-1.37198774 -1.93304372 -1.78920937 -1.53849473 -1.0689945   1.99435935\n",
      " -0.95817733 -0.88220987 -0.70945623 -0.34510173]\n"
     ]
    },
    {
     "data": {
      "text/plain": [
       "[<matplotlib.lines.Line2D at 0x14e34e3d34c0>]"
      ]
     },
     "execution_count": 121,
     "metadata": {},
     "output_type": "execute_result"
    },
    {
     "data": {
      "image/png": "[encoded data removed]",
      "text/plain": [
       "<Figure size 432x288 with 1 Axes>"
      ]
     },
     "metadata": {
      "needs_background": "light"
     },
     "output_type": "display_data"
    }
   ],
   "source": [
    "print(np.sum(phi_benefit,axis=0))\n",
    "print(np.sum(phi_loss,axis=0))\n",
    "print(np.sum(phi_benefit,axis=0) + np.sum(phi_loss,axis=0))\n",
    "plt.plot(np.sum(phi_benefit,axis=0) + np.sum(phi_loss,axis=0))"
   ]
  },
  {
   "cell_type": "code",
   "execution_count": 146,
   "id": "d8a34691",
   "metadata": {},
   "outputs": [
    {
     "name": "stdout",
     "output_type": "stream",
     "text": [
      "5.739251866123742\n",
      "1.7992195154017812\n",
      "1.4799153831717595\n",
      "1.4789712477724615\n"
     ]
    }
   ],
   "source": [
    "initial_model = calc_shap2.combine_models(p2p,np.array([10]))\n",
    "\n",
    "shared_model = calc_shap2.combine_models(p2p,np.array([0,1,2,3,4,5,6,7,8,9,10]))\n",
    "shared_model2 = calc_shap.combine_models(p2p,np.array([0,1,2,3,7,10]))\n",
    "shared_model3 = calc_shap.combine_models(p2p,np.array([1,2,3,10]))\n",
    "#shared_model3 = calc_shap2.combine_models(p2p,np.array([0,1,2,3,4,6,7,8,9,10]))\n",
    "shared_model.eval()\n",
    "shared_model2.eval()\n",
    "shared_model3.eval()\n",
    "\n",
    "f_null = 0 \n",
    "f_opt = 0 \n",
    "f_opt2 = 0 \n",
    "f_opt3 = 0 \n",
    "\n",
    "k = 0 \n",
    "for batch_idx, (data, target) in enumerate(p2p.dataloaders_test[str(10)]):\n",
    "    for ii in range(len(target)):\n",
    "        instance = (data[ii],target[ii])\n",
    "\n",
    "        f_null += F.nll_loss(initial_model(instance[0].cuda()),instance[1].long().cuda().unsqueeze(0)).detach().cpu().numpy()\n",
    "        f_opt += F.nll_loss(shared_model(instance[0].cuda()),instance[1].long().cuda().unsqueeze(0)).detach().cpu().numpy()\n",
    "        f_opt2 += F.nll_loss(shared_model2(instance[0].cuda()),instance[1].long().cuda().unsqueeze(0)).detach().cpu().numpy()\n",
    "        f_opt3 += F.nll_loss(shared_model3(instance[0].cuda()),instance[1].long().cuda().unsqueeze(0)).detach().cpu().numpy()\n",
    "\n",
    "        k += 1 \n",
    "print(f_null)\n",
    "print(f_opt)\n",
    "print(f_opt2)\n",
    "print(f_opt3)"
   ]
  },
  {
   "cell_type": "code",
   "execution_count": null,
   "id": "194bfa63",
   "metadata": {},
   "outputs": [],
   "source": []
  }
 ],
 "metadata": {
  "kernelspec": {
   "display_name": "Python 3 (ipykernel)",
   "language": "python",
   "name": "python3"
  },
  "language_info": {
   "codemirror_mode": {
    "name": "ipython",
    "version": 3
   },
   "file_extension": ".py",
   "mimetype": "text/x-python",
   "name": "python",
   "nbconvert_exporter": "python",
   "pygments_lexer": "ipython3",
   "version": "3.8.13"
  }
 },
 "nbformat": 4,
 "nbformat_minor": 5
}
