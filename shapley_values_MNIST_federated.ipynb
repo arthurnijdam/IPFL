{
 "cells": [
  {
   "cell_type": "code",
   "execution_count": 1,
   "id": "bec0b88d",
   "metadata": {},
   "outputs": [
    {
     "name": "stderr",
     "output_type": "stream",
     "text": [
      "<frozen importlib._bootstrap>:219: RuntimeWarning: scipy._lib.messagestream.MessageStream size changed, may indicate binary incompatibility. Expected 56 from C header, got 64 from PyObject\n"
     ]
    }
   ],
   "source": [
    "import numpy as np\n",
    "import pandas as pd\n",
    "import matplotlib.pyplot as plt\n",
    "\n",
    "from sklearn.model_selection import train_test_split\n",
    "from sklearn.preprocessing import LabelBinarizer\n",
    "from sklearn.datasets import load_breast_cancer\n",
    "from sklearn.preprocessing import StandardScaler\n",
    "from scipy.special import binom \n",
    "\n",
    "import torch\n",
    "import torchvision\n",
    "import torch.nn as nn\n",
    "import torch.nn.functional as F\n",
    "from torchvision.datasets.utils import download_url\n",
    "from torchvision.datasets import ImageFolder\n",
    "from torch.utils.data import DataLoader, Dataset\n",
    "import torchvision.transforms as tt\n",
    "from torch.utils.data import random_split\n",
    "from torchvision.utils import make_grid\n",
    "from torchvision import transforms\n",
    "from torch.autograd import Variable\n",
    "import torch.utils.data as data_utils\n",
    "import torch.nn.init as init\n",
    "\n",
    "from collections import Counter\n",
    "import operator\n",
    "import copy \n",
    "from itertools import product,combinations\n",
    "from time import time \n",
    "#from IPython.core.display import display\n",
    "\n",
    "%matplotlib inline\n",
    "\n",
    "## code extracted from https://www.kaggle.com/code/graymant/breast-cancer-diagnosis-with-pytorch\n",
    "## SV code extracted from https://github.com/mburaksayici/ExplainableAI-Pure-Numpy/blob/main/KernelSHAP-Pure-Numpy.ipynb"
   ]
  },
  {
   "cell_type": "code",
   "execution_count": 2,
   "id": "a9c64e2f",
   "metadata": {},
   "outputs": [
    {
     "name": "stderr",
     "output_type": "stream",
     "text": [
      "2023-03-17 14:38:17.081422: I tensorflow/core/util/util.cc:169] oneDNN custom operations are on. You may see slightly different numerical results due to floating-point round-off errors from different computation orders. To turn them off, set the environment variable `TF_ENABLE_ONEDNN_OPTS=0`.\n"
     ]
    },
    {
     "name": "stdout",
     "output_type": "stream",
     "text": [
      "{'experiment_name': 'test_adaptive_a4', 'Date': '22_11_2022', 'Dataset': 'MNIST_niid', 'n_clients': 10, 'total_clients': 10, 'classes_per_user': 10, 'network': 'Net', 'n_epochs': 100, 'local_iterations': 1, 'type': 'afpl', 'log_interval': 25}\n",
      "[[1 2 0]\n",
      " [2 0 1]\n",
      " [3 1 2]\n",
      " [1 0 3]\n",
      " [0 1 2]\n",
      " [0 2 1]\n",
      " [2 3 0]\n",
      " [0 1 3]\n",
      " [0 3 2]\n",
      " [3 2 0]\n",
      " [3 2 0]\n",
      " [1 3 2]]\n"
     ]
    }
   ],
   "source": [
    "#from utils import read_data,label_mapping_FEMNIST\n",
    "from utils import *\n",
    "from models import Net, Federated_Averaging, Global_Model,Local_Model,AFPL,training_loop\n",
    "from data import FEMNIST_dataset, Partition_MNIST_NIID,MNIST_NIID_dataset\n",
    "import keras\n",
    "\n",
    "import yaml \n",
    "stream = 'settings\\train_settings.yaml'\n",
    "with open('settings/train_settings.yaml','r') as file:\n",
    "    settings = yaml.safe_load(file)\n",
    "    \n",
    "print(settings)\n",
    "### Divide MNIST dataset over a total of 10 clients. Each client gets 2 classes.\n",
    "train_data, test_data = keras.datasets.mnist.load_data()\n",
    "instance = Partition_MNIST_NIID(train_data[0],train_data[1])\n",
    "classes_per_user = 3\n",
    "total_clients = 12\n",
    "train_partition = instance.create_partition(4,classes_per_user,total_clients)\n",
    "test_instance = Partition_MNIST_NIID(test_data[0], test_data[1])\n",
    "test_partition = test_instance.create_partition_test(instance.sample_array)"
   ]
  },
  {
   "cell_type": "code",
   "execution_count": 3,
   "id": "25096301",
   "metadata": {},
   "outputs": [],
   "source": [
    "# SHAP kernel \n",
    "\n",
    "class SHAP_kernel(object): \n",
    "    def __init__(self,n_clients,samples,verbose=True):\n",
    "        self.samples = samples \n",
    "        self.n_clients = n_clients \n",
    "        self.verbose = verbose \n",
    "        self.indices = []\n",
    "        \n",
    "    def first_guess(self): \n",
    "        self.shap_weights = [(self.n_clients-1)/(z*(self.n_clients-z)) for z in list(range(1,self.n_clients))]\n",
    "        self.discrete_shap = np.round(self.shap_weights/np.sum(self.shap_weights)*self.samples)\n",
    "        \n",
    "    def adjust_if_necessary(self,shap_kernel):\n",
    "        ddd = copy.copy(shap_kernel)\n",
    "        \n",
    "        self.changed = False \n",
    "        for i,ele in enumerate(shap_kernel):\n",
    "            if i not in self.indices: \n",
    "                binom_i = binom(len(shap_kernel)+1,i+1)\n",
    "                if binom_i < ele: \n",
    "                    self.changed = True \n",
    "                    ddd[i] = binom_i\n",
    "                    self.indices.append(i)\n",
    "        #print(ddd)\n",
    "        if self.changed == True: \n",
    "            n = self.samples - np.sum(ddd)\n",
    "            p = np.sum(ddd) - np.sum(ddd[self.indices])\n",
    "            if p != 0: \n",
    "                self.adjusted = np.round(ddd * (n+p)/p)\n",
    "                self.adjusted[self.indices] = ddd[self.indices]\n",
    "            else: \n",
    "                self.adjusted = ddd \n",
    "                #self.changed = False\n",
    "\n",
    "    def calc_weights(self):\n",
    "        discrete_shap = self.discrete_shap\n",
    "        if self.changed == True: \n",
    "            while self.changed == True: \n",
    "                self.adjust_if_necessary(self.adjusted)\n",
    "                \n",
    "            self.discrete_shap = self.adjusted \n",
    "                \n",
    "            weights = (1/len(self.discrete_shap))*np.ones(np.shape(self.discrete_shap))\n",
    "            changes = discrete_shap/self.adjusted\n",
    "            weights = weights*changes \n",
    "            self.weights = weights / np.sum(weights)\n",
    "            if self.verbose == True: \n",
    "                fig,ax = plt.subplots(2,2)\n",
    "                plt.tight_layout()\n",
    "                ax[0,0].plot(np.arange(1,self.n_clients),self.adjusted)\n",
    "                ax[0,0].title.set_text(\"number of coalitions with k clients\")\n",
    "                ax[0,1].plot(np.arange(1,self.n_clients),weights)\n",
    "                ax[0,1].title.set_text(\"weights\")\n",
    "                ax[1,0].plot(np.arange(1,self.n_clients),self.adjusted*weights)\n",
    "                ax[1,0].title.set_text(\"# coalitions * weights\")\n",
    "                ax[1,1].plot(np.arange(1,self.n_clients),self.shap_weights)\n",
    "                ax[1,1].title.set_text(\"exact Shapley kernel\")\n",
    "                \n",
    "                print(\"weights: \",weights)\n",
    "                print(\"we took: \",int(np.sum(self.adjusted)),\" samples instead of \",self.samples,\" samples\")\n",
    "                print(np.sum(weights))\n",
    "        else: \n",
    "            # uniform weights \n",
    "            self.weights = (1/len(self.discrete_shap))*np.ones(np.shape(self.discrete_shap))\n",
    "            if self.verbose == True: \n",
    "                print(\"weights: \",weights)\n",
    "                plt.plot(self.discrete_shap*weights)\n",
    "                print(\"we took: \",int(np.sum(self.discrete_shap)),\" samples instead of \",self.samples,\" samples\")\n",
    "        \n",
    "    def forward_shap(self): \n",
    "        self.first_guess()\n",
    "        self.adjust_if_necessary(shap_kernel=self.discrete_shap)\n",
    "        self.calc_weights()\n",
    "\n",
    "class create_coalitions(object):\n",
    "    def __init__(self,discrete_shap,weights,n_clients):\n",
    "        self.actual_samples = int(np.sum(discrete_shap))\n",
    "        self.discrete_shap = discrete_shap\n",
    "        self.weights = weights \n",
    "        self.n_clients = n_clients \n",
    "\n",
    "    def combiner(self,used_masks,i_old,zeros=3,ones=2):\n",
    "        for i,indices in enumerate(combinations(range(zeros+ones),ones)):\n",
    "            item = ['0']*(zeros+ones)\n",
    "            for index in indices: \n",
    "                item[index] = '1'\n",
    "            used_masks[''.join(item)] = int(i_old + i +1)\n",
    "\n",
    "    # determine the permutation length weighted by SV \n",
    "    def permutation_length(self): \n",
    "        arr = np.zeros(self.actual_samples)\n",
    "        K_old = 0 \n",
    "        for i,K in enumerate(self.discrete_shap): \n",
    "            arr[int(K_old):int(K+K_old)] = int(i)\n",
    "            K_old += K \n",
    "        #np.random.shuffle(arr)\n",
    "        return arr\n",
    "    \n",
    "    def forward(self): \n",
    "        indices = self.permutation_length()\n",
    "\n",
    "        mask = np.zeros(self.n_clients)\n",
    "        used_masks = {}\n",
    "        kernel_weights = {}\n",
    "        full_clients = []\n",
    "        number_masks = 0 \n",
    "        for i in range(self.actual_samples):\n",
    "            mask.fill(0.0)\n",
    "\n",
    "            ind = indices[i] + 1\n",
    "            kernel_weights[i] = self.weights[int(indices[i])]\n",
    "            if binom(self.n_clients,ind) <= self.discrete_shap[int(indices[i])]:\n",
    "                # list all permutations. \n",
    "                if ind not in full_clients: \n",
    "                    full_clients.append(ind)\n",
    "                    self.combiner(used_masks,number_masks,self.n_clients-int(ind),int(ind))\n",
    "                    number_masks += binom(self.n_clients,ind)\n",
    "\n",
    "            else: \n",
    "\n",
    "                number_masks_after = number_masks + 1 \n",
    "                time_before = time()\n",
    "                while number_masks != number_masks_after: \n",
    "                    mask.fill(0.0)\n",
    "                    perm = np.random.permutation(self.n_clients)[:int(ind)]\n",
    "                    mask[perm] = 1\n",
    "                    tuple_m = ''.join(str(int(x)) for x in mask)\n",
    "                    if tuple_m not in used_masks: \n",
    "                        used_masks[tuple_m] = int(number_masks)\n",
    "                        number_masks += 1 \n",
    "                    time_int = time()\n",
    "                    if time_int > time_before + 0.05: \n",
    "                        print(\"failed to find all permutations\")\n",
    "                        break\n",
    "                        \n",
    "        masks = np.zeros((self.actual_samples,self.n_clients))\n",
    "        weights = np.zeros(self.actual_samples)\n",
    "        for i,coalition in enumerate(used_masks.keys()):\n",
    "            masks[i,:] = np.array(list(coalition))#int(coalition,2)\n",
    "            weights[i] = kernel_weights[i]\n",
    "        weights = weights / np.sum(weights)\n",
    "        return masks,weights\n",
    "                        \n",
    "#coalition_object = create_coalitions(discrete_shap,shap.weights,n_clients)\n",
    "#masks,weights = coalition_object.forward()\n",
    "#print(masks)\n",
    "#print(weights)"
   ]
  },
  {
   "cell_type": "code",
   "execution_count": 4,
   "id": "064a955c",
   "metadata": {},
   "outputs": [
    {
     "name": "stdout",
     "output_type": "stream",
     "text": [
      "0.1\n",
      "[0.1, 0.0125, 0.0035714285714285713, 0.0017857142857142857, 0.0014285714285714286, 0.0017857142857142857, 0.0035714285714285713, 0.0125, 0.1]\n"
     ]
    },
    {
     "data": {
      "text/plain": [
       "[<matplotlib.lines.Line2D at 0x14dcd78fcb50>]"
      ]
     },
     "execution_count": 4,
     "metadata": {},
     "output_type": "execute_result"
    },
    {
     "data": {
      "image/png": "[encoded data removed]",
      "text/plain": [
       "<Figure size 432x288 with 1 Axes>"
      ]
     },
     "metadata": {
      "needs_background": "light"
     },
     "output_type": "display_data"
    }
   ],
   "source": [
    "import matplotlib.pyplot as plt \n",
    "from scipy.special import binom \n",
    "\n",
    "def shap_kernel(z,p):\n",
    "    #print(binom(p,z))\n",
    "    #return binom(p,z)\n",
    "    return (p-1)/(binom(p,z)*(z*(p-z)))\n",
    "    #return (p-1)/(z*(p-z))\n",
    "    \n",
    "n_clients = 10\n",
    "xx = list(range(1,n_clients))\n",
    "scaling_factor = shap_kernel(1,n_clients)\n",
    "print(scaling_factor)\n",
    "print([shap_kernel(z,n_clients) for z in xx])\n",
    "plt.plot(xx, [shap_kernel(z,n_clients) for z in xx])"
   ]
  },
  {
   "cell_type": "code",
   "execution_count": 5,
   "id": "a4b9ffe0",
   "metadata": {},
   "outputs": [],
   "source": [
    "class Net(nn.Module):\n",
    "    def __init__(self,dataset,out=10):\n",
    "        super(Net, self).__init__()\n",
    "        self.conv1 = nn.Conv2d(1, 10, kernel_size=5)\n",
    "        self.conv2 = nn.Conv2d(10, 20, kernel_size=5)\n",
    "        self.conv2_drop = nn.Dropout2d()\n",
    "        self.fc1 = nn.Linear(320, 100)\n",
    "        if dataset == 'FEMNIST':\n",
    "            self.fc2 = nn.Linear(100, 62)\n",
    "        if dataset == 'MNIST_niid':\n",
    "            self.fc2 = nn.Linear(100,out)\n",
    "\n",
    "    def forward(self, x):\n",
    "        x = F.relu(F.max_pool2d(self.conv1(x), 2))\n",
    "        x = F.relu(F.max_pool2d(self.conv2_drop(self.conv2(x)), 2))\n",
    "        x = x.view(-1, 320)\n",
    "        x = F.relu(self.fc1(x))\n",
    "        x = F.dropout(x, training=self.training)\n",
    "        x = self.fc2(x)\n",
    "        return F.log_softmax(x,dim=-1)"
   ]
  },
  {
   "cell_type": "code",
   "execution_count": 6,
   "id": "0be7f685",
   "metadata": {},
   "outputs": [],
   "source": [
    "from torch.utils.data import DataLoader\n",
    "import copy\n",
    "network = Net('MNIST_niid')\n",
    "client_models = {}\n",
    "optimizers = {}\n",
    "dataloaders = {}\n",
    "dataloaders_test = {}\n",
    "for i in range(total_clients):\n",
    "    client_models[str(i)] = copy.deepcopy(network).double().cuda()\n",
    "    optimizers[str(i)] = torch.optim.SGD(client_models[str(i)].parameters(),lr=0.01,momentum=0.5)\n",
    "    dataset_train= MNIST_NIID_dataset(train_data[0],train_data[1],train_partition,i)\n",
    "    dataloaders[str(i)] = DataLoader(dataset_train,batch_size=16,shuffle=True)\n",
    "    dataset_test= MNIST_NIID_dataset(test_data[0],test_data[1],test_partition,i)\n",
    "    dataloaders_test[str(i)] = DataLoader(dataset_test,batch_size=16,shuffle=True)"
   ]
  },
  {
   "cell_type": "code",
   "execution_count": 7,
   "id": "1924d32a",
   "metadata": {},
   "outputs": [
    {
     "name": "stdout",
     "output_type": "stream",
     "text": [
      "[[6, 2], [5, 1], [6, 1], [2, 5]]\n"
     ]
    }
   ],
   "source": [
    "import random\n",
    "# Select 5 clients \n",
    "selected_clients = [1,2,5,6] #[4,8,9]\n",
    "# create a (random) graph between them\n",
    "graph = []\n",
    "for index,sample in enumerate(selected_clients):\n",
    "    other_clients = copy.deepcopy(selected_clients)\n",
    "    other_clients.remove(sample)\n",
    "    l = [i for i in other_clients]\n",
    "    graph.append(random.sample(l,k=2))\n",
    "    \n",
    "print(graph)"
   ]
  },
  {
   "cell_type": "code",
   "execution_count": 8,
   "id": "9ded635f",
   "metadata": {},
   "outputs": [],
   "source": [
    "class P2P_AFPL():\n",
    "    def __init__(self,total_clients,train_data,train_partition,test_data,test_partition): \n",
    "        self.network = Net('MNIST_niid')\n",
    "        self.total_clients = total_clients \n",
    "        self.client_models = {}\n",
    "        self.optimizers = {}\n",
    "        self.dataloaders = {}\n",
    "        self.len = {}\n",
    "        self.len_test = {}\n",
    "        self.dataloaders_test = {}\n",
    "        for i in range(total_clients):\n",
    "            self.client_models[str(i)] = copy.deepcopy(network).double().cuda()\n",
    "            self.optimizers[str(i)] = torch.optim.SGD(self.client_models[str(i)].parameters(),lr=0.01,momentum=0.5)\n",
    "            dataset_train= MNIST_NIID_dataset(train_data[0],train_data[1],train_partition,i)\n",
    "            self.len[str(i)]= len(dataset_train)\n",
    "            self.dataloaders[str(i)] = DataLoader(dataset_train,batch_size=16,shuffle=True)\n",
    "            dataset_test= MNIST_NIID_dataset(test_data[0],test_data[1],test_partition,i)\n",
    "            self.len_test[str(i)] = len(dataset_test)\n",
    "            self.dataloaders_test[str(i)] = DataLoader(dataset_test,batch_size=16,shuffle=False)\n",
    "            \n",
    "    def create_graph(self,selected_clients):\n",
    "        graph = []\n",
    "        for index,sample in enumerate(selected_clients):\n",
    "            other_clients = copy.deepcopy(selected_clients)\n",
    "            other_clients.remove(sample)\n",
    "            l = [i for i in other_clients]\n",
    "            graph.append(random.sample(l,k=2))\n",
    "\n",
    "        return graph \n",
    "    \n",
    "    def select_clients(self, n_clients=1,total_clients=1, seed=1):\n",
    "        random.seed(seed)\n",
    "        l = [i for i in range(total_clients)]\n",
    "        self.selected_clients = random.sample(l,k=n_clients)\n",
    "        return self.selected_clients \n",
    "\n",
    "    def update_local_models(self,selected_clients):\n",
    "        self.dw = {}\n",
    "        for idx,i in enumerate(selected_clients):\n",
    "            #print(\"local model i\",i)\n",
    "            dataloader = self.dataloaders[str(i)]\n",
    "            self.client_models[str(i)].train()\n",
    "            \n",
    "            for batch_idx, (data, target) in enumerate(dataloader):\n",
    "                data = data.double().cuda()\n",
    "                target=target.long().cuda()\n",
    "\n",
    "                self.optimizers[str(i)].zero_grad()\n",
    "                output = self.client_models[str(i)](data)\n",
    "                loss = F.nll_loss(output,target)\n",
    "                loss.backward()\n",
    "                self.optimizers[str(i)].step()\n",
    "            \n",
    "            self.client_models[str(i)].eval()\n",
    "            dataloader_test = self.dataloaders_test[str(i)]\n",
    "            loss_test = 0 \n",
    "            with torch.no_grad():\n",
    "                for batch_idx, (data, target) in enumerate(dataloader_test):\n",
    "                    data = data.double().cuda()\n",
    "                    target=target.long().cuda()\n",
    "\n",
    "                    output = self.client_models[str(i)](data)\n",
    "                    loss_test += F.nll_loss(output,target)\n",
    "            #print(\"loss test\",loss_test)\n",
    "            \n",
    "            loss_test2 = 0 \n",
    "            with torch.no_grad():\n",
    "                for batch_idx, (data, target) in enumerate(dataloader):\n",
    "                    data = data.double().cuda()\n",
    "                    target=target.long().cuda()\n",
    "\n",
    "                    output = self.client_models[str(i)](data)\n",
    "                    loss_test2 += F.nll_loss(output,target)\n",
    "            #print(\"loss train\",loss_test2)\n",
    "            \n",
    "        return loss_test/self.len_test[str(i)],loss_test2 /self.len[str(i)]\n",
    "    \n",
    "    \n",
    "\n",
    "            \n",
    "    def combine_models(self,i,client_numbers):\n",
    "        zero_copy = copy.deepcopy(self.client_models[str(i)]) # This is used to collect the model in\n",
    "        j =0\n",
    "        client_numbers_plus_client = client_numbers + [i] # This is more efficient\n",
    "        alphas = zero_copy.alphas.detach()\n",
    "        alphas[i] = 1 - torch.sum(\n",
    "            torch.tensor([iii for idx, iii in enumerate(alphas) if idx != i and idx in client_numbers]))\n",
    "        # It's not possible to set the value of self.alphas[i], so instead we determine it manually here\n",
    "\n",
    "        for ii in client_numbers_plus_client:\n",
    "\n",
    "            for (name, param),(name2,param2) in zip(zero_copy.named_parameters(),self.client_models[str(ii)].named_parameters()): #self.client_models[str(ii)].named_parameters()):\n",
    "\n",
    "                if name != 'alphas':\n",
    "                    if j == 0:\n",
    "                        param.data = torch.zeros(param.shape).cuda()\n",
    "\n",
    "                    param.data += alphas[ii]*param2.data # we add all participating client's models to the one here.\n",
    "\n",
    "            j += 1\n",
    "\n",
    "        self.client_models[str(i)] = zero_copy.double()\n",
    "        \n",
    "    def calc_accuracy(self):\n",
    "        \n",
    "        for i in self.selected_clients: \n",
    "            dataloader = self.dataloaders_test[str(i)]\n",
    "            intermediate_accuracy = 0 \n",
    "\n",
    "            for batch_idx, (data, target) in enumerate(dataloader):\n",
    "                data = data.double().cuda()\n",
    "                target = target.long().cuda()\n",
    "                output = self.client_models[str(i)](data)\n",
    "                output_array = output.detach().cpu().numpy()\n",
    "                output_class = np.argmax(output_array,axis=-1)\n",
    "                target_array = target.detach().cpu().numpy()\n",
    "                intermediate_accuracy += np.sum(output_class == target_array)\n",
    "\n",
    "            accuracy = intermediate_accuracy/p2p.len_test[str(i)]*100\n",
    "            print(i)\n",
    "            print(accuracy)\n",
    "            \n",
    "    def federated_averaging(self):\n",
    "        self.shared_model = copy.deepcopy(network).double().cuda()\n",
    "        n_clients = len(self.selected_clients)\n",
    "        weight = [self.len[str(x)] for x in self.selected_clients]\n",
    "        weight = weight / np.sum(weight)\n",
    "        #print(\"weights \",weight)\n",
    "        for idx,i in enumerate(self.selected_clients): \n",
    "            for (name, param),(name2,param2) in zip(self.shared_model.named_parameters()\n",
    "                                                      ,self.client_models[str(i)].named_parameters()):\n",
    "                if idx == 0: \n",
    "                    param.data = torch.zeros(param.shape).cuda().double()\n",
    "                param.data += weight[idx]*param2.data \n",
    "\n",
    "        self.shared_model = self.shared_model.double()\n",
    "        \n",
    "    def init_models(self):\n",
    "        for i in self.selected_clients: \n",
    "            for (name,param),(name2,param2) in zip(self.shared_model.named_parameters(),\n",
    "                                                  self.client_models[str(i)].named_parameters()):\n",
    "                param2.data = copy.deepcopy(param.data)\n",
    "    \n",
    "    def compare_favg(self):\n",
    "        self.shared_model.eval()\n",
    "        loss_before = []\n",
    "        loss_after = []\n",
    "        for ii in self.selected_clients:\n",
    "            dataloader = self.dataloaders_test[str(ii)]\n",
    "            loss_test = 0 \n",
    "            loss_global = 0 \n",
    "            #print(\"loss\")\n",
    "            with torch.no_grad():\n",
    "                for batch_idx, (data, target) in enumerate(dataloader):\n",
    "                    data = data.double().cuda()\n",
    "                    target=target.long().cuda()\n",
    "#\n",
    "                    output = self.client_models[str(ii)](data)\n",
    "                    outputg = self.shared_model(data)\n",
    "                    loss_test += F.nll_loss(output,target)\n",
    "                    loss_global += F.nll_loss(outputg,target)\n",
    "                     \n",
    "            loss_before.append(loss_test.detach().cpu().numpy())\n",
    "            loss_after.append(loss_global.detach().cpu().numpy())\n",
    "        print(\"loss before: \",np.sum(loss_before))\n",
    "        print(\"loss after: \",np.sum(loss_after))\n",
    "    \n",
    "    def loop(self,epochs,graph,mode='disjoint'):\n",
    "        \n",
    "        loss_tests = []\n",
    "        loss_trains = []\n",
    "        \n",
    "        for i in range(epochs): \n",
    "            self.selected_clients = [0,1,2,3,4,5,6,7,8,9,10,11]\n",
    "            list1 = []\n",
    "            self.alphas = torch.ones(self.total_clients,self.total_clients)*(1/3)\n",
    "            loss_test, loss_train = self.update_local_models(self.selected_clients)\n",
    "            loss_tests.append(loss_test.detach().cpu().numpy())\n",
    "            loss_trains.append(loss_train.detach().cpu().numpy())\n",
    "            \n",
    "            \n",
    "            if i < epochs -1 :\n",
    "                self.federated_averaging()\n",
    "                self.compare_favg()\n",
    "                self.init_models()\n",
    "            else: \n",
    "                print(\"stopped fedavg\")\n",
    "            \n",
    "        plt.plot(loss_tests,'r-')\n",
    "        plt.plot(loss_trains,'k-')\n",
    "        self.calc_accuracy()\n",
    "        \n",
    "          #  plt.imshow(data[0,0,:,:].detach().cpu().numpy())"
   ]
  },
  {
   "cell_type": "code",
   "execution_count": 9,
   "id": "e412e165",
   "metadata": {},
   "outputs": [
    {
     "name": "stdout",
     "output_type": "stream",
     "text": [
      "loss before:  24.998579357957425\n",
      "loss after:  75.32384935177036\n",
      "loss before:  19.876379886019233\n",
      "loss after:  29.264698588891616\n",
      "loss before:  15.087544365717628\n",
      "loss after:  22.458552123427772\n",
      "loss before:  12.711201570209226\n",
      "loss after:  19.190034628952134\n",
      "loss before:  11.920869340299491\n",
      "loss after:  16.289616607775756\n",
      "loss before:  9.82454394865054\n",
      "loss after:  14.610959381554618\n",
      "loss before:  9.448641433213089\n",
      "loss after:  13.131859414369188\n",
      "loss before:  8.49832883328322\n",
      "loss after:  12.431413155576465\n",
      "loss before:  8.789885813814793\n",
      "loss after:  11.240967075947765\n",
      "stopped fedavg\n",
      "0\n",
      "99.4186046511628\n",
      "1\n",
      "99.12790697674419\n",
      "2\n",
      "98.12332439678283\n",
      "3\n",
      "99.45504087193461\n",
      "4\n",
      "98.83720930232558\n",
      "5\n",
      "99.12790697674419\n",
      "6\n",
      "98.78419452887537\n",
      "7\n",
      "99.72752043596729\n",
      "8\n",
      "99.08814589665653\n",
      "9\n",
      "99.69604863221885\n",
      "10\n",
      "100.0\n",
      "11\n",
      "98.04469273743017\n"
     ]
    },
    {
     "data": {
      "image/png": "[encoded data removed]",
      "text/plain": [
       "<Figure size 432x288 with 1 Axes>"
      ]
     },
     "metadata": {
      "needs_background": "light"
     },
     "output_type": "display_data"
    }
   ],
   "source": [
    "import collections\n",
    "p2p = P2P_AFPL(total_clients,train_data,train_partition,test_data,test_partition)\n",
    "alphas = p2p.loop(10,graph,p2p)\n"
   ]
  },
  {
   "cell_type": "code",
   "execution_count": 32,
   "id": "a9937894",
   "metadata": {},
   "outputs": [],
   "source": [
    "from sklearn.linear_model import LinearRegression\n",
    "class calculate_SHAP(SHAP_kernel):\n",
    "    def __init__(self,selected_clients,dataset,samples,p2p):\n",
    "        super().__init__(len(selected_clients),samples,verbose=False)\n",
    "        self.n_clients = len(selected_clients)\n",
    "        self.samples = samples\n",
    "        self.dataset = dataset\n",
    "        self.selected_clients = selected_clients\n",
    "        self.p2p = p2p \n",
    "        self.define_shap()\n",
    "        \n",
    "    def define_shap(self):\n",
    "        # define Shap kernel\n",
    "        self.forward_shap()\n",
    "        coalition_object = create_coalitions(self.adjusted,self.weights,self.n_clients)\n",
    "        self.masks, self.weights = coalition_object.forward()\n",
    "        \n",
    "        self.masks = np.asarray(self.masks,dtype='bool')\n",
    "        \n",
    "    def combine_models(self,p2p,coalitions):\n",
    "        shared_model = copy.deepcopy(p2p.network).double().cuda()\n",
    "        n_clients = len(self.selected_clients)\n",
    "        weight = [p2p.len[str(x)] for x in coalitions]\n",
    "        weight = weight / np.sum(weight) #weight is wrong \n",
    "        #print(\"weights \",weight)\n",
    "        for idx,i in enumerate(coalitions): \n",
    "            for (name, param),(name2,param2) in zip(shared_model.named_parameters()\n",
    "                                                      ,p2p.client_models[str(i)].named_parameters()):\n",
    "                if idx == 0: \n",
    "                    param.data = torch.zeros(param.shape).cuda().double()\n",
    "                param.data += weight[idx]*param2.data \n",
    "        shared_model = shared_model.double()\n",
    "        return shared_model\n",
    "    \n",
    "    def calc_fnull(self,client): \n",
    "        # we calculate the prediction of the model of client ...  \n",
    "        shared_model = self.combine_models(self.p2p,np.array([client]))\n",
    "        shared_model.eval().cuda()\n",
    "        fnull = np.zeros((p2p.len_test[str(client)],1))\n",
    "        for batch_idx, (data, target) in enumerate(p2p.dataloaders_test[str(client)]):\n",
    "            data = data.double().cuda()\n",
    "            target = target.long().cuda()\n",
    "            fnull[batch_idx*16:batch_idx*16+len(target)] = np.reshape(F.nll_loss(shared_model(data),target,reduction='none').detach().cpu().numpy(),(len(target),1))\n",
    "        return fnull\n",
    "        \n",
    "    def calc_fx(self,client):\n",
    "        selected_clients = np.concatenate((self.selected_clients,np.array([client])))\n",
    "        shared_model = self.combine_models(self.p2p,selected_clients)\n",
    "        shared_model.eval().cuda()\n",
    "        #fx = np.zeros((len(p2p.dataloaders_test[str(10)]),1))\n",
    "        fx = np.zeros((p2p.len_test[str(client)],1))\n",
    "        for batch_idx, (data, target) in enumerate(p2p.dataloaders_test[str(client)]):\n",
    "            data = data.double().cuda()\n",
    "            target = target.long().cuda()\n",
    "            fx[batch_idx*16:batch_idx*16 + len(target)] = np.reshape(F.nll_loss(shared_model(data),target,reduction='none').detach().cpu().numpy(),(len(target),1))\n",
    "        #print(fx)\n",
    "        return fx\n",
    "    \n",
    "    def first_check(self,mean_fnull,client):\n",
    "        ey = np.zeros((len(self.masks),p2p.len_test[str(client)])) # fix indices \n",
    "        for i,coalition in enumerate(self.masks[:len(self.selected_clients),:]): \n",
    "            selected_clients_coalition = np.concatenate((self.selected_clients[coalition],np.array([client])))\n",
    "            shared_model = self.combine_models(self.p2p,selected_clients_coalition)\n",
    "            shared_model.eval().cuda()\n",
    "            for batch_idx, (data, target) in enumerate(p2p.dataloaders_test[str(client)]):\n",
    "                data = data.double().cuda()\n",
    "                target = target.long().cuda()\n",
    "\n",
    "                ey[i,batch_idx*16:batch_idx*16+len(target)] = F.nll_loss(shared_model(data),target,reduction='none').detach().cpu().numpy()\n",
    "            \n",
    "            # check if ey is better or worse than fnull: \n",
    "            if i == len(self.selected_clients)-1: \n",
    "                print('scores after adding model',np.mean(ey[:i,:],axis=1))\n",
    "                #print(np.where(np.mean(ey[:i,:],axis=1)<=mean_fnull))\n",
    "                selected_clients_index = np.where(np.mean(ey[:i,:],axis=1)<=mean_fnull+0*mean_fnull )\n",
    "                print(\"selected clients: \",self.selected_clients[selected_clients_index])\n",
    "                selected_clients = self.selected_clients[selected_clients_index]\n",
    "        if len(selected_clients) != len(self.selected_clients) and len(selected_clients) > 1:\n",
    "            self.__init__(selected_clients,self.dataset,self.samples,self.p2p)\n",
    "            ey2 = np.zeros((len(self.masks),p2p.len_test[str(client)]))\n",
    "            ey2[:len(self.selected_clients),:] = ey[selected_clients_index,:]\n",
    "            ey = ey2 \n",
    "        return ey, selected_clients \n",
    "    \n",
    "    def solve(self,fnull,ey):\n",
    "        # Transform to k-dimensional least squares problem \n",
    "        k = len(fnull)\n",
    "        coalitions = len(self.masks)\n",
    "        M = len(self.selected_clients)\n",
    "        eyAdjb = []\n",
    "        for kk in range(k): \n",
    "            #eyAdjb[kk*c:(kk+1)*199]\n",
    "            eyAdjb.append(list(ey[:,kk] -fnull[kk]))\n",
    "\n",
    "        eyAdjb = sum(eyAdjb,[])\n",
    "        etmp = self.masks\n",
    "        X = np.tile(etmp, (k,1))\n",
    "        y = np.array(eyAdjb)\n",
    "        w = np.tile(self.weights, k)\n",
    "        reg = LinearRegression(fit_intercept=False).fit(X,y,sample_weight=w)\n",
    "        return reg.coef_\n",
    "\n",
    "    \n",
    "    def forward2(self,client,evaluation=\"loss\"):\n",
    "        # calculate fnull, prediction without knowledge (empty initialized model)\n",
    "        fnull = self.calc_fnull(client)\n",
    "        mean_fnull = np.mean(fnull)\n",
    "        print(\"score without collaboration: \",mean_fnull)\n",
    "\n",
    "        # first check if ey is better or worse than fnull: \n",
    "        ey, selected_clients = self.first_check(mean_fnull,client)\n",
    "        print(np.mean(ey[:10,:],axis=1))\n",
    "        #selected_clients = self.selected_clients \n",
    "        print(selected_clients)\n",
    "        if len(selected_clients) > 1: \n",
    "\n",
    "            # calculate ey, output for all coalitions \n",
    "            for i,coalition in enumerate(self.masks[len(self.selected_clients):,:]): \n",
    "                selected_clients_coalition = np.concatenate((self.selected_clients[coalition],np.array([client])))\n",
    "                shared_model = self.combine_models(self.p2p,selected_clients_coalition)\n",
    "                shared_model.eval().cuda()\n",
    "                for batch_idx, (data, target) in enumerate(p2p.dataloaders_test[str(client)]):\n",
    "                    data = data.double().cuda()\n",
    "                    target = target.long().cuda()\n",
    "                    ey[i+len(self.selected_clients),batch_idx*16:batch_idx*16+len(target)] = F.nll_loss(shared_model(data),target,reduction='none').detach().cpu().numpy()\n",
    "\n",
    "            # calculate fx \n",
    "            #fx = self.calc_fx(client)\n",
    "\n",
    "            #masks = np.asarray(self.masks,dtype = 'int')\n",
    "            #,masks,len(self.selected_clients),fx,0,self.weights)\n",
    "           # mean = np.mean(ey,axis=1)\n",
    "           # print(np.mean(mean))\n",
    "           # print(fnullf)\n",
    "            #print(mean-mean_fnull<0)\n",
    "          #  self.weights = self.weights[mean-mean_fnull<0]\n",
    "           # self.masks = self.masks[mean-mean_fnull<0,:]\n",
    "           # if sum(mean-mean_fnull<0) > 1: \n",
    "                #phi = self.solve(fnull,ey[mean-mean_fnull<0,:]) \n",
    "            phi = self.solve(fnull,ey) \n",
    "            selected_clients_index = np.argmin(phi) #np.where(phi<0)\n",
    "            #selected_clients_index = self.masks[np.argmin(mean-fnullf),:]\n",
    "            #phi = np.zeros(self.selected_clients)\n",
    "\n",
    "            #self.ey2 = ey[mean-mean_fnull<0,:] \n",
    "            self.ey = ey \n",
    "            selected_clients = selected_clients[selected_clients_index]\n",
    "\n",
    "            selected_clients = np.concatenate((np.array([selected_clients]),np.array([client])))\n",
    "            #else: \n",
    "              #  phi = np.zeros(self.selected_clients)\n",
    "             #   print('no one selected')\n",
    "               # selected_clients = np.array([client])\n",
    "            \n",
    "            \n",
    "            #print(phi)\n",
    "           # print(selected_clients)\n",
    "            # check score: \n",
    "            shared_model = self.combine_models(self.p2p,selected_clients)\n",
    "            shared_model.eval()\n",
    "            f_after = np.zeros(p2p.len_test[str(client)])\n",
    "            for batch_idx, (data, target) in enumerate(p2p.dataloaders_test[str(client)]):\n",
    "                    data = data.double().cuda()\n",
    "                    target = target.long().cuda()\n",
    "                    f_after[batch_idx*16:batch_idx*16+len(target)] = F.nll_loss(shared_model(data),target,reduction='none').detach().cpu().numpy()\n",
    "            print(\"score after: \",np.mean(f_after))\n",
    "            self.ey = ey \n",
    "            self.fnull = fnull \n",
    "            return phi, selected_clients,mean_fnull,np.mean(f_after)\n",
    "        else: \n",
    "            print(\"no clients selected\")\n",
    "            shared_model = self.combine_models(self.p2p, np.concatenate((selected_clients,np.array([client]))))\n",
    "            shared_model.eval()\n",
    "            f_after = np.zeros(p2p.len_test[str(client)])\n",
    "            for batch_idx, (data, target) in enumerate(p2p.dataloaders_test[str(client)]):\n",
    "                    data = data.double().cuda()\n",
    "                    target = target.long().cuda()\n",
    "                    f_after[batch_idx*16:batch_idx*16+len(target)] = F.nll_loss(shared_model(data),target,reduction='none').detach().cpu().numpy()\n",
    "            print(\"score after: \",np.mean(f_after))\n",
    "            return 0, selected_clients,mean_fnull,np.mean(f_after)\n",
    "        #print(phi)\n",
    "        #return ey, fnull, fx , masks, self.weight\n"
   ]
  },
  {
   "cell_type": "code",
   "execution_count": 33,
   "id": "d9f27d7d",
   "metadata": {},
   "outputs": [
    {
     "name": "stdout",
     "output_type": "stream",
     "text": [
      "[0, 1, 2, 3, 4, 5, 6, 7, 8, 9, 10, 11]\n",
      "0\n",
      "score without collaboration:  0.02143847743742103\n",
      "scores after adding model [0.01834818 0.02382473 0.0966521  0.02273196 0.01663127 0.0217829\n",
      " 0.05941889 0.02785349 0.02436077 0.0230579 ]\n",
      "selected clients:  [1 5]\n",
      "[0.01834818 0.01663127]\n",
      "[1 5]\n",
      "score after:  0.01663127215846291\n",
      "duration =  0.6415901184082031 seconds\n",
      "[-0.00309029 -0.00480721]\n",
      "[5 0]\n",
      "1\n",
      "score without collaboration:  0.02614427427455551\n",
      "scores after adding model [0.02459461 0.03276486 0.13204292 0.02539952 0.02889178 0.03922299\n",
      " 0.09177515 0.04155036 0.0505932  0.04691883]\n",
      "selected clients:  [0 4]\n",
      "[0.02459461 0.02539952]\n",
      "[0 4]\n",
      "score after:  0.02459461471026251\n",
      "duration =  0.5398187637329102 seconds\n",
      "[-0.00154966 -0.00074475]\n",
      "[0 1]\n",
      "2\n",
      "score without collaboration:  0.05376161274973698\n",
      "scores after adding model [0.09605913 0.0861034  0.14058024 0.08831694 0.09461838 0.06378365\n",
      " 0.10354379 0.06907531 0.06599654 0.06439885]\n",
      "selected clients:  []\n",
      "[0.09605913 0.0861034  0.14058024 0.08831694 0.09461838 0.06378365\n",
      " 0.10354379 0.06907531 0.06599654 0.06439885]\n",
      "[]\n",
      "no clients selected\n",
      "score after:  0.05376161274973698\n",
      "duration =  0.5625221729278564 seconds\n",
      "0\n",
      "[]\n",
      "3\n",
      "score without collaboration:  0.027379187895832633\n",
      "scores after adding model [0.02742994 0.0263819  0.0249991  0.02592806 0.02557588 0.03586395\n",
      " 0.02791633 0.06071875 0.05199016 0.03876786]\n",
      "selected clients:  [1 2 4 5]\n",
      "[0.0263819  0.0249991  0.02592806 0.02557588 0.         0.\n",
      " 0.         0.         0.         0.        ]\n",
      "[1 2 4 5]\n",
      "score after:  0.024999102025425265\n",
      "duration =  0.9694867134094238 seconds\n",
      "[ 0.00601968 -0.00696703  0.00532661  0.00518911]\n",
      "[2 3]\n",
      "4\n",
      "score without collaboration:  0.037588566975274795\n",
      "scores after adding model [0.03972737 0.03907994 0.04260488 0.17827538 0.02798834 0.03250361\n",
      " 0.13106853 0.04283514 0.03542627 0.04073684]\n",
      "selected clients:  [5 6 9]\n",
      "[0.02798834 0.03250361 0.03542627 0.         0.         0.        ]\n",
      "[5 6 9]\n",
      "score after:  0.027988340656040413\n",
      "duration =  0.6351597309112549 seconds\n",
      "[-0.00947908 -0.00051445  0.00144442]\n",
      "[5 4]\n",
      "5\n",
      "score without collaboration:  0.01798607164715487\n",
      "scores after adding model [0.01200718 0.01591962 0.01905496 0.07867276 0.01453158 0.0418735\n",
      " 0.0541939  0.04176625 0.04964621 0.04644405]\n",
      "selected clients:  [0 1 4]\n",
      "[0.01200718 0.01591962 0.01453158 0.         0.         0.        ]\n",
      "[0 1 4]\n",
      "score after:  0.01200717849008258\n",
      "duration =  0.6661231517791748 seconds\n",
      "[-0.00400433 -0.00091605 -0.00207631]\n",
      "[0 5]\n",
      "6\n",
      "score without collaboration:  0.030809381658399863\n",
      "scores after adding model [0.08755252 0.07628513 0.03126019 0.04243628 0.07985133 0.09483415\n",
      " 0.03270055 0.02184943 0.02738147 0.02175863]\n",
      "selected clients:  [ 8  9 10]\n",
      "[0.02184943 0.02738147 0.02175863 0.         0.         0.        ]\n",
      "[ 8  9 10]\n",
      "score after:  0.021758632201766066\n",
      "duration =  0.6251091957092285 seconds\n",
      "[-0.00615621 -0.00196378 -0.00665476]\n",
      "[10  6]\n",
      "7\n",
      "score without collaboration:  0.01326232266834098\n",
      "scores after adding model [0.04794517 0.04161641 0.02355705 0.01364586 0.03979424 0.04027303\n",
      " 0.02014976 0.03883429 0.03488142 0.02672156]\n",
      "selected clients:  []\n",
      "[0.04794517 0.04161641 0.02355705 0.01364586 0.03979424 0.04027303\n",
      " 0.02014976 0.03883429 0.03488142 0.02672156]\n",
      "[]\n",
      "no clients selected\n",
      "score after:  0.01326232266834098\n",
      "duration =  0.5542571544647217 seconds\n",
      "0\n",
      "[]\n",
      "8\n",
      "score without collaboration:  0.01901682270297049\n",
      "scores after adding model [0.03606275 0.03265204 0.01659425 0.070191   0.03470136 0.04303399\n",
      " 0.01705457 0.05153407 0.01971753 0.02017809]\n",
      "selected clients:  [2 6]\n",
      "[0.01659425 0.01705457]\n",
      "[2 6]\n",
      "score after:  0.016594245883649928\n",
      "duration =  0.49740171432495117 seconds\n",
      "[-0.00242258 -0.00196225]\n",
      "[2 8]\n",
      "9\n",
      "score without collaboration:  0.012775175262329087\n",
      "scores after adding model [0.03691835 0.03466506 0.01098631 0.07989633 0.0362032  0.04918421\n",
      " 0.01070969 0.05221392 0.00863523 0.01383296]\n",
      "selected clients:  [2 6 8]\n",
      "[0.01098631 0.01070969 0.00863523 0.         0.         0.        ]\n",
      "[2 6 8]\n",
      "score after:  0.008635225589427673\n",
      "duration =  0.6170940399169922 seconds\n",
      "[-0.00133024 -0.00139413 -0.0033776 ]\n",
      "[8 9]\n",
      "10\n",
      "score without collaboration:  0.027672214863658687\n",
      "scores after adding model [0.04982484 0.0421259  0.03556812 0.11424878 0.04803237 0.05211983\n",
      " 0.02537066 0.08763299 0.02828714 0.02679786]\n",
      "selected clients:  [6 9]\n",
      "[0.02537066 0.02679786]\n",
      "[6 9]\n",
      "score after:  0.025370664306146096\n",
      "duration =  0.49790358543395996 seconds\n",
      "[-0.00230155 -0.00087435]\n",
      "[ 6 10]\n",
      "11\n",
      "score without collaboration:  0.04108782617190827\n",
      "scores after adding model [0.08387655 0.08459335 0.03889458 0.15872693 0.07383742 0.08021006\n",
      " 0.04957904 0.12689131 0.05060748 0.05392536]\n",
      "selected clients:  [2]\n",
      "[0.08387655 0.08459335 0.03889458 0.15872693 0.07383742 0.08021006\n",
      " 0.04957904 0.12689131 0.05060748 0.05392536]\n",
      "[2]\n",
      "no clients selected\n",
      "score after:  0.03889458167704982\n",
      "duration =  0.5402624607086182 seconds\n",
      "0\n",
      "[2]\n"
     ]
    }
   ],
   "source": [
    "from time import time \n",
    "selected_clients = [0,1,2,3,4,5,6,7,8,9,10,11]\n",
    "\n",
    "print(selected_clients)\n",
    "fnull = np.zeros(len([0,1,2,3,4,5,6,7,8,9,10,11]))\n",
    "fafter = np.zeros(len([0,1,2,3,4,5,6,7,8,9,10,11]))\n",
    "\n",
    "for i in selected_clients: \n",
    "    before = time()\n",
    "    selected_clients = [0,1,2,3,4,5,6,7,8,9,10,11]\n",
    "    client = i\n",
    "    print(client)\n",
    "    selected_clients.remove(client)\n",
    "    calc_shap2 = calculate_SHAP(np.array(selected_clients),dataset_train,200,p2p)\n",
    "    phi,selected_clients2,fnullf,fafterf = calc_shap2.forward2(client)\n",
    "    fnull[i] =fnullf \n",
    "    fafter[i] = fafterf\n",
    "    after = time() - before \n",
    "    print('duration = ',after,'seconds')\n",
    "    print(phi)\n",
    "    print(selected_clients2)\n",
    "    #if len(selected_clients2) > 1: \n",
    "    #    plt.plot(selected_clients2,phi)\n",
    "    #    plt.plot(selected_clients2[np.where(phi<0)[0]],phi[phi<0],'or')"
   ]
  },
  {
   "cell_type": "code",
   "execution_count": 34,
   "id": "1217e687",
   "metadata": {},
   "outputs": [
    {
     "name": "stdout",
     "output_type": "stream",
     "text": [
      "0.32892193430758315\n",
      "0.28449779311639123\n"
     ]
    },
    {
     "data": {
      "image/png": "[encoded data removed]",
      "text/plain": [
       "<Figure size 432x288 with 1 Axes>"
      ]
     },
     "metadata": {
      "needs_background": "light"
     },
     "output_type": "display_data"
    }
   ],
   "source": [
    "plt.plot(fnull)\n",
    "plt.plot(fafter)\n",
    "print(np.sum(fnull))\n",
    "print(np.sum(fafter))"
   ]
  },
  {
   "cell_type": "code",
   "execution_count": 25,
   "id": "ea3c80e2",
   "metadata": {},
   "outputs": [
    {
     "name": "stdout",
     "output_type": "stream",
     "text": [
      "0.32892193430758315\n",
      "0.2860052317829586\n"
     ]
    },
    {
     "data": {
      "image/png": "[encoded data removed]",
      "text/plain": [
       "<Figure size 432x288 with 1 Axes>"
      ]
     },
     "metadata": {
      "needs_background": "light"
     },
     "output_type": "display_data"
    }
   ],
   "source": [
    "plt.plot(fnull)\n",
    "plt.plot(fafter)\n",
    "print(np.sum(fnull))\n",
    "print(np.sum(fafter))"
   ]
  },
  {
   "cell_type": "code",
   "execution_count": 490,
   "id": "61534c18",
   "metadata": {},
   "outputs": [
    {
     "name": "stdout",
     "output_type": "stream",
     "text": [
      "0.3211206872381347\n",
      "0.2656580438430252\n"
     ]
    },
    {
     "data": {
      "image/png": "[encoded data removed]",
      "text/plain": [
       "<Figure size 432x288 with 1 Axes>"
      ]
     },
     "metadata": {
      "needs_background": "light"
     },
     "output_type": "display_data"
    }
   ],
   "source": [
    "plt.plot(fnull)\n",
    "plt.plot(fafter)\n",
    "print(np.sum(fnull))\n",
    "print(np.sum(fafter))"
   ]
  },
  {
   "cell_type": "code",
   "execution_count": 412,
   "id": "0cd0237b",
   "metadata": {},
   "outputs": [
    {
     "name": "stdout",
     "output_type": "stream",
     "text": [
      "0.3211206872381347\n",
      "0.4001198772337168\n"
     ]
    },
    {
     "data": {
      "image/png": "[encoded data removed]",
      "text/plain": [
       "<Figure size 432x288 with 1 Axes>"
      ]
     },
     "metadata": {
      "needs_background": "light"
     },
     "output_type": "display_data"
    }
   ],
   "source": [
    "plt.plot(fnull)\n",
    "plt.plot(fafter)\n",
    "print(np.sum(fnull))\n",
    "print(np.sum(fafter))"
   ]
  },
  {
   "cell_type": "code",
   "execution_count": 405,
   "id": "bc79b63b",
   "metadata": {},
   "outputs": [
    {
     "name": "stdout",
     "output_type": "stream",
     "text": [
      "0.3211206872381347\n",
      "0.25681575631615877\n"
     ]
    },
    {
     "data": {
      "image/png": "[encoded data removed]",
      "text/plain": [
       "<Figure size 432x288 with 1 Axes>"
      ]
     },
     "metadata": {
      "needs_background": "light"
     },
     "output_type": "display_data"
    }
   ],
   "source": [
    "plt.plot(fnull)\n",
    "plt.plot(fafter)\n",
    "print(np.sum(fnull))\n",
    "print(np.sum(fafter))"
   ]
  },
  {
   "cell_type": "code",
   "execution_count": 452,
   "id": "7b171b30",
   "metadata": {},
   "outputs": [
    {
     "data": {
      "text/plain": [
       "[<matplotlib.lines.Line2D at 0x7f976115a370>]"
      ]
     },
     "execution_count": 452,
     "metadata": {},
     "output_type": "execute_result"
    },
    {
     "data": {
      "image/png": "[encoded data removed]",
      "text/plain": [
       "<Figure size 432x288 with 1 Axes>"
      ]
     },
     "metadata": {
      "needs_background": "light"
     },
     "output_type": "display_data"
    }
   ],
   "source": [
    "plt.plot(selected_clients2,phi)\n",
    "plt.plot(selected_clients2[np.where(phi<0-fnullf)[0]],phi[phi<0-fnullf],'or')"
   ]
  },
  {
   "cell_type": "code",
   "execution_count": 493,
   "id": "5d1d0eba",
   "metadata": {},
   "outputs": [
    {
     "name": "stdout",
     "output_type": "stream",
     "text": [
      "(200, 358)\n",
      "0.054790597576527746\n",
      "0.031065252215273204\n",
      "[False False  True False False False False False False False False False\n",
      " False False False False False False False False False False False False\n",
      " False False False  True False False False False False False False False\n",
      " False False False  True False False False False False False False False\n",
      " False False False False False False False False False False False False\n",
      " False False False  True False False False False False False False False\n",
      " False False False False False False False False False False False False\n",
      " False False False False False False False False False False False False\n",
      " False False False False False False False False False False False False\n",
      " False False False False False False False False False False False False\n",
      " False False False False False False False False False False False False\n",
      " False False False False False False False False False False False False\n",
      " False False False False False False False False False False False False\n",
      " False False False False False False False False False False False False\n",
      " False False False False False False False False False False False False\n",
      " False False False False False False False False False False False False\n",
      " False False False False False False False False]\n",
      "2\n"
     ]
    }
   ],
   "source": [
    "print(np.shape(calc_shap2.ey))\n",
    "mean = np.mean(calc_shap2.ey,axis=1)\n",
    "print(np.mean(mean))\n",
    "print(fnullf)\n",
    "print(mean-fnullf<0)\n",
    "print(np.argmin(mean-fnullf))\n"
   ]
  },
  {
   "cell_type": "code",
   "execution_count": 492,
   "id": "873a242d",
   "metadata": {},
   "outputs": [
    {
     "data": {
      "text/plain": [
       "[<matplotlib.lines.Line2D at 0x7f9761c80700>]"
      ]
     },
     "execution_count": 492,
     "metadata": {},
     "output_type": "execute_result"
    },
    {
     "data": {
      "image/png": "[encoded data removed]",
      "text/plain": [
       "<Figure size 432x288 with 1 Axes>"
      ]
     },
     "metadata": {
      "needs_background": "light"
     },
     "output_type": "display_data"
    }
   ],
   "source": [
    "plt.plot(phi_raw2)"
   ]
  },
  {
   "cell_type": "code",
   "execution_count": 166,
   "id": "420e322e",
   "metadata": {},
   "outputs": [
    {
     "name": "stdout",
     "output_type": "stream",
     "text": [
      "2.0041746437988315\n",
      "385\n",
      "(199, 385)\n",
      "[ 2.85067561 34.23242731 28.46502853 57.77997824 42.66504333 31.44413806\n",
      " 31.63388345 26.40855657 23.37118121 41.93235146]\n"
     ]
    }
   ],
   "source": [
    "print(np.sum(fnull))\n",
    "print(len(fnull))\n",
    "print(np.shape(ey))\n",
    "print(np.sum(ey[:10,:],axis=1))"
   ]
  },
  {
   "cell_type": "code",
   "execution_count": 167,
   "id": "282d5974",
   "metadata": {},
   "outputs": [
    {
     "name": "stdout",
     "output_type": "stream",
     "text": [
      "5.814358681478112\n"
     ]
    }
   ],
   "source": [
    "shared_model = calc_shap2.combine_models(p2p,[0])\n",
    "shared_model.eval().cuda()\n",
    "ey2 = np.zeros(384)\n",
    "for batch_idx, (data, target) in enumerate(p2p.dataloaders_test[str(10)]):\n",
    "    data = data.double().cuda()\n",
    "    target = target.long().cuda()\n",
    "\n",
    "    ey2[batch_idx*16:batch_idx*16+len(target)] = F.nll_loss(shared_model(data),target,reduction='none').detach().cpu().numpy()\n",
    "print(np.sum(ey2))"
   ]
  },
  {
   "cell_type": "markdown",
   "id": "f779b973",
   "metadata": {},
   "source": [
    "#### old code "
   ]
  },
  {
   "cell_type": "code",
   "execution_count": 88,
   "id": "bfc13df7",
   "metadata": {},
   "outputs": [
    {
     "name": "stdout",
     "output_type": "stream",
     "text": [
      "(199, 9)\n",
      "(199,)\n",
      "(199,)\n",
      "[-0.03823057  0.01365829  0.01032824 -0.03841841  0.01044364  0.00292917\n",
      "  0.01275646  0.00647827  0.01105955  0.00881592]\n",
      "[ 2.84122588e-05 -9.50978280e-05 -1.47165710e-05  1.97944806e-06\n",
      " -2.43449045e-05  1.31015823e-05 -7.20295803e-05  8.06776010e-06\n",
      "  1.11937203e-05 -3.60065538e-05]\n",
      "[-0.03588396  0.00968889  0.0093388  -0.0368585   0.01381635  0.00304845\n",
      "  0.01084023  0.00907289  0.01001535  0.00674205]\n",
      "[-0.03588396  0.00968889  0.0093388  -0.0368585   0.01381635  0.00304845\n",
      "  0.01084023  0.00907289  0.01001535]\n"
     ]
    },
    {
     "data": {
      "text/plain": [
       "[<matplotlib.lines.Line2D at 0x1458f9745be0>]"
      ]
     },
     "execution_count": 88,
     "metadata": {},
     "output_type": "execute_result"
    },
    {
     "data": {
      "image/png": "[encoded data removed]",
      "text/plain": [
       "<Figure size 432x288 with 1 Axes>"
      ]
     },
     "metadata": {
      "needs_background": "light"
     },
     "output_type": "display_data"
    }
   ],
   "source": [
    "from sklearn.linear_model import LinearRegression\n",
    "X = etmp \n",
    "y = eyAdj2\n",
    "w = calc_shap2.weights\n",
    "print(np.shape(X))\n",
    "print(np.shape(y))\n",
    "print(np.shape(w))\n",
    "\n",
    "reg  = LinearRegression().fit(X,y,sample_weight=w)\n",
    "phi_raw = reg.coef_ \n",
    "phi = np.zeros(M)\n",
    "phi[nonzero_inds[:-1]] = phi_raw\n",
    "phi[nonzero_inds[-1]] = ((fx_array[dim]) - (fnull_array[dim])) - sum(phi_raw)\n",
    "#print(reg.coef_)\n",
    "print(phi)\n",
    "print(phis_single2[dim,:])\n",
    "phi3 = calc_shap2.solve(np.reshape(ey[dim],(199,1)),np.reshape(fnull_array[dim],(1,1))\n",
    "                        ,maskMatrix,10,np.reshape(fx_array[dim],(1,1)),dim,w)\n",
    "print(phi3)\n",
    "#plt.plot(X[:,0],y,\".\")\n",
    "tmp = np.transpose(np.transpose(etmp) * np.transpose(w))\n",
    "#print(\"tmp \",np.shape(tmp))\n",
    "etmp_dot = np.dot(np.transpose(tmp), etmp)\n",
    "\n",
    "tmp2 = np.linalg.inv(etmp_dot)\n",
    "phi4 = np.dot(tmp2, np.dot(np.transpose(tmp), eyAdj2))\n",
    "print(phi4)\n",
    "plt.plot(phi)\n",
    "plt.plot(phi4)\n",
    "    "
   ]
  },
  {
   "cell_type": "code",
   "execution_count": 119,
   "id": "88c2982a",
   "metadata": {},
   "outputs": [
    {
     "name": "stdout",
     "output_type": "stream",
     "text": [
      "[ 60. 134.  99. 110.  57.   7.  65.  67.  34.  31.]\n"
     ]
    }
   ],
   "source": [
    "# instead of normalizing, just count how often participating with this client would bring the loss down. \n",
    "phi_count = np.zeros((348,10))\n",
    "#epsilon = -0.0001\n",
    "phi_benefit = np.zeros((348,10))\n",
    "phi_loss = np.zeros((348,10))\n",
    "\n",
    "for i in range(348): \n",
    "    negative_indices = phi_gt_single[i,:] < 0 + epsilon\n",
    "    positive_indices = phi_gt_single[i,:] >= 0 + epsilon  \n",
    "    \n",
    "    phi_count[i,negative_indices] = 1 \n",
    "    phi_benefit[i,negative_indices] = -fnull[i]#phi_gt_single[i,negative_indices]\n",
    "    phi_loss[i,positive_indices] = fnull[i]#phi_gt_single[i,positive_indices]\n",
    "print(np.sum(phi_count,axis=0))"
   ]
  },
  {
   "cell_type": "code",
   "execution_count": 146,
   "id": "d8a34691",
   "metadata": {},
   "outputs": [
    {
     "name": "stdout",
     "output_type": "stream",
     "text": [
      "5.739251866123742\n",
      "1.7992195154017812\n",
      "1.4799153831717595\n",
      "1.4789712477724615\n"
     ]
    }
   ],
   "source": [
    "initial_model = calc_shap2.combine_models(p2p,np.array([10]))\n",
    "\n",
    "shared_model = calc_shap2.combine_models(p2p,np.array([0,1,2,3,4,5,6,7,8,9,10]))\n",
    "shared_model2 = calc_shap.combine_models(p2p,np.array([0,1,2,3,7,10]))\n",
    "shared_model3 = calc_shap.combine_models(p2p,np.array([1,2,3,10]))\n",
    "#shared_model3 = calc_shap2.combine_models(p2p,np.array([0,1,2,3,4,6,7,8,9,10]))\n",
    "shared_model.eval()\n",
    "shared_model2.eval()\n",
    "shared_model3.eval()\n",
    "\n",
    "f_null = 0 \n",
    "f_opt = 0 \n",
    "f_opt2 = 0 \n",
    "f_opt3 = 0 \n",
    "\n",
    "k = 0 \n",
    "for batch_idx, (data, target) in enumerate(p2p.dataloaders_test[str(10)]):\n",
    "    for ii in range(len(target)):\n",
    "        instance = (data[ii],target[ii])\n",
    "\n",
    "        f_null += F.nll_loss(initial_model(instance[0].cuda()),instance[1].long().cuda().unsqueeze(0)).detach().cpu().numpy()\n",
    "        f_opt += F.nll_loss(shared_model(instance[0].cuda()),instance[1].long().cuda().unsqueeze(0)).detach().cpu().numpy()\n",
    "        f_opt2 += F.nll_loss(shared_model2(instance[0].cuda()),instance[1].long().cuda().unsqueeze(0)).detach().cpu().numpy()\n",
    "        f_opt3 += F.nll_loss(shared_model3(instance[0].cuda()),instance[1].long().cuda().unsqueeze(0)).detach().cpu().numpy()\n",
    "\n",
    "        k += 1 \n",
    "print(f_null)\n",
    "print(f_opt)\n",
    "print(f_opt2)\n",
    "print(f_opt3)"
   ]
  },
  {
   "cell_type": "code",
   "execution_count": null,
   "id": "194bfa63",
   "metadata": {},
   "outputs": [],
   "source": []
  }
 ],
 "metadata": {
  "kernelspec": {
   "display_name": "Python 3 (ipykernel)",
   "language": "python",
   "name": "python3"
  },
  "language_info": {
   "codemirror_mode": {
    "name": "ipython",
    "version": 3
   },
   "file_extension": ".py",
   "mimetype": "text/x-python",
   "name": "python",
   "nbconvert_exporter": "python",
   "pygments_lexer": "ipython3",
   "version": "3.8.13"
  }
 },
 "nbformat": 4,
 "nbformat_minor": 5
}
